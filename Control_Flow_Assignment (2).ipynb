{
 "cells": [
  {
   "cell_type": "markdown",
   "id": "10eafb74",
   "metadata": {},
   "source": [
    "Basic If-Else Statements:"
   ]
  },
  {
   "cell_type": "markdown",
   "id": "8eefa875",
   "metadata": {},
   "source": [
    "1. Write a Python program to check if a given number is positive or negative."
   ]
  },
  {
   "cell_type": "code",
   "execution_count": 1,
   "id": "490759e0",
   "metadata": {},
   "outputs": [
    {
     "name": "stdout",
     "output_type": "stream",
     "text": [
      "Enter the Number5\n",
      "Given number is positive\n"
     ]
    }
   ],
   "source": [
    "a=int(input(\"Enter the Number\"))\n",
    "if a>0:\n",
    "    print(\"Given number is positive\")\n",
    "elif a<0:\n",
    "    print(\"Given number is negative\")\n",
    "else:\n",
    "    print(\"Given number is neither positive nor negative\")"
   ]
  },
  {
   "cell_type": "markdown",
   "id": "0839bf4d",
   "metadata": {},
   "source": [
    "2. Create a program that determines if a person is eligible to vote based on their age."
   ]
  },
  {
   "cell_type": "code",
   "execution_count": 2,
   "id": "47bd000e",
   "metadata": {},
   "outputs": [
    {
     "name": "stdout",
     "output_type": "stream",
     "text": [
      "Enter the age of the person48\n",
      "Yes the person can vote\n"
     ]
    }
   ],
   "source": [
    "a=int(input(\"Enter the age of the person\"))\n",
    "if a>=18:\n",
    "    print(\"Yes the person can vote\")\n",
    "else:\n",
    "    print(\"No They can not vote\")"
   ]
  },
  {
   "cell_type": "markdown",
   "id": "d94648e9",
   "metadata": {},
   "source": [
    "3. Develop a program to find the maximum of two numbers using if-else statements."
   ]
  },
  {
   "cell_type": "code",
   "execution_count": 3,
   "id": "4a923b22",
   "metadata": {},
   "outputs": [
    {
     "name": "stdout",
     "output_type": "stream",
     "text": [
      "Enter the number 15\n",
      "Enter the number 29\n",
      "9 is thelargest number\n"
     ]
    }
   ],
   "source": [
    "a=int(input(\"Enter the number 1\"))\n",
    "b=int(input(\"Enter the number 2\"))\n",
    "if a>b:\n",
    "    print(a,\"is the largest number\")\n",
    "else:\n",
    "    print(b,\"is thelargest number\")"
   ]
  },
  {
   "cell_type": "markdown",
   "id": "33929cef",
   "metadata": {},
   "source": [
    "4. Write a Python script to classify a given year as a leap year or not."
   ]
  },
  {
   "cell_type": "code",
   "execution_count": 14,
   "id": "08243aad",
   "metadata": {},
   "outputs": [
    {
     "name": "stdout",
     "output_type": "stream",
     "text": [
      "Enter a year: 2020\n",
      "2020 is a leap year.\n"
     ]
    }
   ],
   "source": [
    "# Input a year from the user\n",
    "year = int(input(\"Enter a year: \"))\n",
    "\n",
    "# Check if it's a leap year\n",
    "if (year % 4 == 0 and year % 100 != 0) or (year % 400 == 0):\n",
    "    print(year, \"is a leap year.\")\n",
    "else:\n",
    "    print(year, \"is not a leap year.\")\n"
   ]
  },
  {
   "cell_type": "markdown",
   "id": "effbb937",
   "metadata": {},
   "source": [
    "5. Create a program that checks whether a character is a vowel or a consonant."
   ]
  },
  {
   "cell_type": "code",
   "execution_count": 7,
   "id": "6da13417",
   "metadata": {},
   "outputs": [
    {
     "name": "stdout",
     "output_type": "stream",
     "text": [
      "Enter the characters\n",
      "The entered character is consonant\n"
     ]
    }
   ],
   "source": [
    "a=input(\"Enter the character\")\n",
    "if \"aeiouAEIOU\" in a:\n",
    "    print(\"The entered character is vowel\")\n",
    "else:\n",
    "    print(\"The entered character is consonant\")"
   ]
  },
  {
   "cell_type": "markdown",
   "id": "e2de192f",
   "metadata": {},
   "source": [
    "6. Implement a program to determine whether a given number is even or odd."
   ]
  },
  {
   "cell_type": "code",
   "execution_count": 17,
   "id": "759ee580",
   "metadata": {},
   "outputs": [
    {
     "name": "stdout",
     "output_type": "stream",
     "text": [
      "Enter the number8\n",
      "The number is  even\n"
     ]
    }
   ],
   "source": [
    "a=int(input(\"Enter the number\"))\n",
    "if a==1:\n",
    "    print(\"The number is neither odd nor even\")\n",
    "elif a%2==1:\n",
    "    print(\"The given number is odd\")\n",
    "else:\n",
    "    print(\"The number is  even\")"
   ]
  },
  {
   "cell_type": "markdown",
   "id": "11a22a93",
   "metadata": {},
   "source": [
    "7. Write a Python function to calculate the absolute value of a number without using the `abs()` function."
   ]
  },
  {
   "cell_type": "code",
   "execution_count": 22,
   "id": "1a12f62c",
   "metadata": {},
   "outputs": [
    {
     "name": "stdout",
     "output_type": "stream",
     "text": [
      "Enter the number-5\n",
      "The absolute value of number is 5\n"
     ]
    }
   ],
   "source": [
    "a=int(input(\"Enter the number\"))\n",
    "if a>0:\n",
    "    print(\"The absolute value of number is\",a)\n",
    "else:\n",
    "    print(\"The absolute value of number is\",-a)"
   ]
  },
  {
   "cell_type": "markdown",
   "id": "54426adb",
   "metadata": {},
   "source": [
    "8. Develop a program that determines the largest of three given numbers using if-else statements."
   ]
  },
  {
   "cell_type": "code",
   "execution_count": 25,
   "id": "54610f94",
   "metadata": {},
   "outputs": [
    {
     "name": "stdout",
     "output_type": "stream",
     "text": [
      "Enter the first number 5\n",
      "Enter the second number4\n",
      "Enter the third number3\n",
      "The largest number is 5\n"
     ]
    }
   ],
   "source": [
    "a=int(input(\"Enter the first number \"))\n",
    "b=int(input(\"Enter the second number\"))\n",
    "c=int(input(\"Enter the third number\"))\n",
    "if a>b and c:\n",
    "    print(\"The largest number is\",a)\n",
    "elif b>a and c:\n",
    "    print(\"The largest number is\",b)\n",
    "else:\n",
    "    print(\"The largest number is\",c)"
   ]
  },
  {
   "cell_type": "markdown",
   "id": "db96c6e0",
   "metadata": {},
   "source": [
    "9. Create a program that checks if a given string is a palindrome."
   ]
  },
  {
   "cell_type": "code",
   "execution_count": 26,
   "id": "f65957ff",
   "metadata": {},
   "outputs": [
    {
     "name": "stdout",
     "output_type": "stream",
     "text": [
      "Enter the string madam\n",
      "The given string is palindrome\n"
     ]
    }
   ],
   "source": [
    "a=input(\"Enter the string \")\n",
    "b=a[::-1]\n",
    "if a==b:\n",
    "    print(\"The given string is palindrome\")\n",
    "else:\n",
    "    print(\"not palindrome\")"
   ]
  },
  {
   "cell_type": "markdown",
   "id": "b22932e8",
   "metadata": {},
   "source": [
    "10. Write a Python program to calculate the grade based on a student's score."
   ]
  },
  {
   "cell_type": "code",
   "execution_count": 1,
   "id": "91e37892",
   "metadata": {},
   "outputs": [
    {
     "name": "stdout",
     "output_type": "stream",
     "text": [
      "Enter the marks obtained by student: 89\n",
      "You got A+\n"
     ]
    }
   ],
   "source": [
    "a = int(input(\"Enter the marks obtained by student: \"))\n",
    "\n",
    "if a >= 90 and a <= 100:\n",
    "    print(\"You got an O Grade\")\n",
    "elif a >= 80 and a < 90:\n",
    "    print(\"You got A+\")\n",
    "elif a >= 70 and a < 80:\n",
    "    print(\"You got A\")\n",
    "elif a >= 60 and a < 70:\n",
    "    print(\"You got B\")\n",
    "elif a >= 50 and a < 60:\n",
    "    print(\"You got C\")\n",
    "elif a>=40 and a < 50:\n",
    "    print(\"You got D\")\n",
    "else:\n",
    "    print(\"You have Failed F\")\n"
   ]
  },
  {
   "cell_type": "markdown",
   "id": "f48e352c",
   "metadata": {},
   "source": [
    "# Nested if else statements"
   ]
  },
  {
   "cell_type": "markdown",
   "id": "3e59335e",
   "metadata": {},
   "source": [
    "11. Write a program to find the largest among three numbers using nested if-else statements."
   ]
  },
  {
   "cell_type": "code",
   "execution_count": 5,
   "id": "3d32ce94",
   "metadata": {},
   "outputs": [
    {
     "name": "stdout",
     "output_type": "stream",
     "text": [
      "Enter the First Num5\n",
      "Enter the Second Num4\n",
      "Enter the third num9\n",
      "The largest number among a,b,c is 9\n"
     ]
    }
   ],
   "source": [
    "a=int(input(\"Enter the First Num\"))\n",
    "b=int(input(\"Enter the Second Num\"))\n",
    "c=int(input(\"Enter the third num\"))\n",
    "if a>=b:\n",
    "    if a>=c:\n",
    "        largest=a\n",
    "    else:\n",
    "        largest=c\n",
    "else:\n",
    "    if b>=c:\n",
    "        largest=b\n",
    "    else:\n",
    "        largest=c\n",
    "print(\"The largest number among a,b,c is\",largest)"
   ]
  },
  {
   "cell_type": "markdown",
   "id": "05e2d1c6",
   "metadata": {},
   "source": [
    "12. Implement a program to determine if a triangle is equilateral, isosceles, or scalene."
   ]
  },
  {
   "cell_type": "code",
   "execution_count": 13,
   "id": "10ad380b",
   "metadata": {},
   "outputs": [
    {
     "name": "stdout",
     "output_type": "stream",
     "text": [
      "Enter the First angle45\n",
      "Enter the Second angle87\n",
      "Enter the third angle87\n",
      "The values you entered will not form a triangle\n"
     ]
    }
   ],
   "source": [
    "a=int(input(\"Enter the First angle\"))\n",
    "b=int(input(\"Enter the Second angle\"))\n",
    "c=int(input(\"Enter the third angle\"))\n",
    "if a+b+c==180:\n",
    "    if a==b==c:\n",
    "        print(\"Triangle is equilateral\")\n",
    "    elif (a==b and a!=c) or (a==c and a!=b) or(b==c and b!=a):\n",
    "        print(\"Triangle is isosceles\")\n",
    "    else:\n",
    "        print(\"Triangle is scalene\")\n",
    "else:\n",
    "    print(\"The values you entered will not form a triangle\")\n"
   ]
  },
  {
   "cell_type": "markdown",
   "id": "54474703",
   "metadata": {},
   "source": [
    "13. Develop a program that checks if a year is a leap year and also if it is a century year."
   ]
  },
  {
   "cell_type": "code",
   "execution_count": 20,
   "id": "24570fce",
   "metadata": {},
   "outputs": [
    {
     "name": "stdout",
     "output_type": "stream",
     "text": [
      "Enter a year2000\n",
      "2000 is leap year\n",
      "Its a century year\n"
     ]
    }
   ],
   "source": [
    "a=int(input(\"Enter a year\"))\n",
    "if (a%4==0 and a%100!=0) or (a%400==0):\n",
    "    print(a,\"is leap year\")\n",
    "else:\n",
    "    print(a,\"is not leap year\")\n",
    "    \n",
    "#For Century Year\n",
    "if a%100==0:\n",
    "    print(\"Its a century year\")\n",
    "else:\n",
    "    print(\"Its not a century year\")"
   ]
  },
  {
   "cell_type": "markdown",
   "id": "9ca65018",
   "metadata": {},
   "source": [
    "14. Write a Python script to determine if a number is positive, negative, or zero."
   ]
  },
  {
   "cell_type": "code",
   "execution_count": 25,
   "id": "ee0e831c",
   "metadata": {},
   "outputs": [
    {
     "name": "stdout",
     "output_type": "stream",
     "text": [
      "Enter the number: 0\n",
      "Given number is zero\n"
     ]
    }
   ],
   "source": [
    "a = int(input(\"Enter the number: \"))\n",
    "\n",
    "if a > 0:\n",
    "    print(\"Given number is positive\")\n",
    "elif a == 0:\n",
    "    print(\"Given number is zero\")\n",
    "else:\n",
    "    print(\"Given number is negative\")\n"
   ]
  },
  {
   "cell_type": "markdown",
   "id": "a076a0e8",
   "metadata": {},
   "source": [
    "15. Create a program to check if a person is a teenager (between 13 and 19 years old)."
   ]
  },
  {
   "cell_type": "code",
   "execution_count": 29,
   "id": "0cdf02f5",
   "metadata": {},
   "outputs": [
    {
     "name": "stdout",
     "output_type": "stream",
     "text": [
      "Please enter the age15\n",
      "Yes the person is a teenager\n"
     ]
    }
   ],
   "source": [
    "a=int(input(\"Please enter the age\"))\n",
    "if a>=13 and a<=19:\n",
    "    print(\"Yes the person is a teenager\")\n",
    "else:\n",
    "    print(\"The person is not teenager\")"
   ]
  },
  {
   "cell_type": "markdown",
   "id": "280f3f94",
   "metadata": {},
   "source": [
    "16. Develop a program that determines the type of angle based on its measure (acute, obtuse, or right)."
   ]
  },
  {
   "cell_type": "code",
   "execution_count": 31,
   "id": "d4f22bf2",
   "metadata": {},
   "outputs": [
    {
     "name": "stdout",
     "output_type": "stream",
     "text": [
      "Enter the angle155\n",
      "The given angle is obtuse\n"
     ]
    }
   ],
   "source": [
    "a=int(input(\"Enter the angle\"))\n",
    "if a<90:\n",
    "    print(\"The given angle is acute\")\n",
    "elif a==90:\n",
    "    print(\"The given angle is rightangle\")\n",
    "elif a>90 and a<180:\n",
    "    print(\"The given angle is obtuse\")\n",
    "else:\n",
    "    print(\"Invalid\")"
   ]
  },
  {
   "cell_type": "markdown",
   "id": "e341df62",
   "metadata": {},
   "source": [
    "17. Write a Python program to calculate the roots of a quadratic equation."
   ]
  },
  {
   "cell_type": "code",
   "execution_count": 32,
   "id": "f3b294a5",
   "metadata": {},
   "outputs": [
    {
     "name": "stdout",
     "output_type": "stream",
     "text": [
      "Enter the coefficient 'a': 1\n",
      "Enter the coefficient 'b': -4\n",
      "Enter the coefficient 'c': 3\n",
      "Root 1 = 3.0\n",
      "Root 2 = 1.0\n"
     ]
    }
   ],
   "source": [
    "import math\n",
    "\n",
    "# Input coefficients of the quadratic equation\n",
    "a = float(input(\"Enter the coefficient 'a': \"))\n",
    "b = float(input(\"Enter the coefficient 'b': \"))\n",
    "c = float(input(\"Enter the coefficient 'c': \"))\n",
    "\n",
    "# Calculate the discriminant\n",
    "discriminant = b**2 - 4*a*c\n",
    "\n",
    "# Check the discriminant to determine the nature of roots\n",
    "if discriminant > 0:\n",
    "    # Two real and distinct roots\n",
    "    root1 = (-b + math.sqrt(discriminant)) / (2*a)\n",
    "    root2 = (-b - math.sqrt(discriminant)) / (2*a)\n",
    "    print(\"Root 1 =\", root1)\n",
    "    print(\"Root 2 =\", root2)\n",
    "elif discriminant == 0:\n",
    "    # One real root (repeated)\n",
    "    root = -b / (2*a)\n",
    "    print(\"Root =\", root)\n",
    "else:\n",
    "    # Complex roots\n",
    "    real_part = -b / (2*a)\n",
    "    imaginary_part = math.sqrt(abs(discriminant)) / (2*a)\n",
    "    print(\"Root 1 =\", real_part, \"+\", imaginary_part, \"i\")\n",
    "    print(\"Root 2 =\", real_part, \"-\", imaginary_part, \"i\")\n"
   ]
  },
  {
   "cell_type": "markdown",
   "id": "2658b602",
   "metadata": {},
   "source": [
    "18. Implement a program to determine the day of the week based on a user-provided number (1 for Monday, 2\n",
    "for Tuesday, etc.)."
   ]
  },
  {
   "cell_type": "code",
   "execution_count": 33,
   "id": "187bed81",
   "metadata": {},
   "outputs": [
    {
     "name": "stdout",
     "output_type": "stream",
     "text": [
      "Enter a number (1-7): 4\n",
      "The day of the week corresponding to 4 is Thursday.\n"
     ]
    }
   ],
   "source": [
    "# Create a dictionary to map numbers to days of the week\n",
    "days_of_week = {\n",
    "    1: \"Monday\",\n",
    "    2: \"Tuesday\",\n",
    "    3: \"Wednesday\",\n",
    "    4: \"Thursday\",\n",
    "    5: \"Friday\",\n",
    "    6: \"Saturday\",\n",
    "    7: \"Sunday\"\n",
    "}\n",
    "\n",
    "# Input a number from the user\n",
    "user_number = int(input(\"Enter a number (1-7): \"))\n",
    "\n",
    "# Check if the input number is valid\n",
    "if user_number in days_of_week:\n",
    "    day = days_of_week[user_number]\n",
    "    print(f\"The day of the week corresponding to {user_number} is {day}.\")\n",
    "else:\n",
    "    print(\"Invalid input. Please enter a number between 1 and 7.\")\n"
   ]
  },
  {
   "cell_type": "markdown",
   "id": "319b9940",
   "metadata": {},
   "source": [
    "19. Create a program that determines if a year is a leap year and also if it is evenly divisible by 400."
   ]
  },
  {
   "cell_type": "code",
   "execution_count": 35,
   "id": "fba28a4d",
   "metadata": {},
   "outputs": [
    {
     "name": "stdout",
     "output_type": "stream",
     "text": [
      "Enter a year: 400\n",
      "400 is a leap year.\n",
      "400 is evenly divisible by 400.\n"
     ]
    }
   ],
   "source": [
    "# Input a year from the user\n",
    "year = int(input(\"Enter a year: \"))\n",
    "\n",
    "# Check if it's a leap year\n",
    "if (year % 4 == 0 and year % 100 != 0) or (year % 400 == 0):\n",
    "    print(year, \"is a leap year.\")\n",
    "else:\n",
    "    print(year, \"is not a leap year.\")\n",
    "\n",
    "# Check if it's evenly divisible by 400\n",
    "if year % 400 == 0:\n",
    "    print(year, \"is evenly divisible by 400.\")\n",
    "else:\n",
    "    print(year, \"is not evenly divisible by 400.\")\n"
   ]
  },
  {
   "cell_type": "markdown",
   "id": "f4e82614",
   "metadata": {},
   "source": [
    "20. Develop a program that checks if a given number is prime or not using nested if-else statements."
   ]
  },
  {
   "cell_type": "code",
   "execution_count": 49,
   "id": "8ab743c2",
   "metadata": {},
   "outputs": [
    {
     "name": "stdout",
     "output_type": "stream",
     "text": [
      "Enter the number37\n",
      "The given number is prime\n"
     ]
    }
   ],
   "source": [
    "num=int(input(\"Enter the number\"))\n",
    "if num>1:\n",
    "    for i in range(2,int(num**0.5)+1):\n",
    "        if num%i==0:\n",
    "            print(\"The given number is not a prime\")\n",
    "            break\n",
    "    else:\n",
    "        print(\"The given number is prime\")\n",
    "else:\n",
    "    print(\"The given number is not a prime\")"
   ]
  },
  {
   "cell_type": "markdown",
   "id": "488493d0",
   "metadata": {},
   "source": [
    "# Elif Statements:"
   ]
  },
  {
   "cell_type": "markdown",
   "id": "abab8119",
   "metadata": {},
   "source": [
    "21. Write a Python program to assign grades based on different ranges of scores using elif statements."
   ]
  },
  {
   "cell_type": "code",
   "execution_count": 50,
   "id": "5e44ec5d",
   "metadata": {},
   "outputs": [
    {
     "name": "stdout",
     "output_type": "stream",
     "text": [
      "Enter the marks obtained by student: 54\n",
      "You got C\n"
     ]
    }
   ],
   "source": [
    "a = int(input(\"Enter the marks obtained by student: \"))\n",
    "\n",
    "if a >= 90 and a <= 100:\n",
    "    print(\"You got an O Grade\")\n",
    "elif a >= 80 and a < 90:\n",
    "    print(\"You got A+\")\n",
    "elif a >= 70 and a < 80:\n",
    "    print(\"You got A\")\n",
    "elif a >= 60 and a < 70:\n",
    "    print(\"You got B\")\n",
    "elif a >= 50 and a < 60:\n",
    "    print(\"You got C\")\n",
    "elif a>=40 and a < 50:\n",
    "    print(\"You got D\")\n",
    "else:\n",
    "    print(\"You have Failed F\")\n"
   ]
  },
  {
   "cell_type": "markdown",
   "id": "0e36dbc7",
   "metadata": {},
   "source": [
    "22. Implement a program to determine the type of a triangle based on its angles."
   ]
  },
  {
   "cell_type": "code",
   "execution_count": 52,
   "id": "a6007b5b",
   "metadata": {},
   "outputs": [
    {
     "name": "stdout",
     "output_type": "stream",
     "text": [
      "Enter the first angle65\n",
      "Enter the second Angle65\n",
      "Enter the third angle50\n",
      "The triangle is isosceles\n"
     ]
    }
   ],
   "source": [
    "a=int(input(\"Enter the first angle\"))\n",
    "b=int(input(\"Enter the second Angle\"))\n",
    "c=int(input(\"Enter the third angle\"))\n",
    "if a+b+c==180:\n",
    "    if a==b==c:\n",
    "        print(\"The triangle is equilateral\")\n",
    "    elif (a==b and a!=c) or (b==c and b!=a):\n",
    "        print(\"The triangle is isosceles\")\n",
    "    else:\n",
    "        print(\"The Triangle is scalene\")\n",
    "else:\n",
    "    print(\"The Given angles sum is not forming Triangle\")"
   ]
  },
  {
   "cell_type": "markdown",
   "id": "f8ce4e03",
   "metadata": {},
   "source": [
    "23. Develop a program to categorize a given person's BMI into underweight, normal, overweight, or obese using\n",
    "elif statements."
   ]
  },
  {
   "cell_type": "code",
   "execution_count": 57,
   "id": "9d1e85e3",
   "metadata": {},
   "outputs": [
    {
     "name": "stdout",
     "output_type": "stream",
     "text": [
      "Enter your weight in kilograms: 72\n",
      "Enter your height in meters: 1.72\n",
      "Your BMI is 24.34, and you are categorized as Normal.\n"
     ]
    }
   ],
   "source": [
    "# Input weight and height\n",
    "weight = float(input(\"Enter your weight in kilograms: \"))\n",
    "height = float(input(\"Enter your height in meters: \"))\n",
    "\n",
    "# Calculate BMI\n",
    "bmi = weight / (height ** 2)\n",
    "\n",
    "# Categorize BMI using elif statements\n",
    "if bmi < 18.5:\n",
    "    category = \"Underweight\"\n",
    "elif 18.5 <= bmi < 24.9:\n",
    "    category = \"Normal\"\n",
    "elif 24.9 <= bmi < 29.9:\n",
    "    category = \"Overweight\"\n",
    "else:\n",
    "    category = \"Obese\"\n",
    "\n",
    "# Display the result\n",
    "print(f\"Your BMI is {bmi:.2f}, and you are categorized as {category}.\")\n"
   ]
  },
  {
   "cell_type": "markdown",
   "id": "ab05c229",
   "metadata": {},
   "source": [
    "24. Create a program that determines whether a given number is positive, negative, or zero using elif\n",
    "statements."
   ]
  },
  {
   "cell_type": "code",
   "execution_count": 60,
   "id": "4b5f2f38",
   "metadata": {},
   "outputs": [
    {
     "name": "stdout",
     "output_type": "stream",
     "text": [
      "Enter the number6\n",
      "The number is positive\n"
     ]
    }
   ],
   "source": [
    "a=int(input(\"Enter the number\"))\n",
    "if a==0:\n",
    "    print(\"The number is zero\")\n",
    "elif a>0:\n",
    "    print(\"The number is positive\")\n",
    "elif a<0:\n",
    "    print(\"The number is negative\")\n",
    "else:\n",
    "    print(\"The number is Invalid\")"
   ]
  },
  {
   "cell_type": "markdown",
   "id": "373854d1",
   "metadata": {},
   "source": [
    "25. Write a Python script to determine the type of a character (uppercase, lowercase, or special) using elif\n",
    "statements."
   ]
  },
  {
   "cell_type": "code",
   "execution_count": 65,
   "id": "892cf5e8",
   "metadata": {},
   "outputs": [
    {
     "name": "stdout",
     "output_type": "stream",
     "text": [
      "Enter a character: 5\n",
      "5 is neither uppercase nor lowercase.\n"
     ]
    }
   ],
   "source": [
    "# Input a character\n",
    "character = input(\"Enter a character: \")\n",
    "\n",
    "# Check the type of character using elif statements\n",
    "if character.isupper():\n",
    "    print(f\"{character} is an uppercase letter.\")\n",
    "elif character.islower():\n",
    "    print(f\"{character} is a lowercase letter.\")\n",
    "elif not character.isalnum():\n",
    "    print(f\"{character} is a special character.\")\n",
    "else:\n",
    "    print(f\"{character} is neither uppercase nor lowercase.\")\n"
   ]
  },
  {
   "cell_type": "markdown",
   "id": "e4f0016b",
   "metadata": {},
   "source": [
    "26. Implement a program to calculate the discounted price based on different purchase amounts using elif\n",
    "statements."
   ]
  },
  {
   "cell_type": "code",
   "execution_count": 67,
   "id": "3dbf60b2",
   "metadata": {},
   "outputs": [
    {
     "name": "stdout",
     "output_type": "stream",
     "text": [
      "Enter the price of the item1000\n",
      "The new price of the item is 900.0\n"
     ]
    }
   ],
   "source": [
    "a=float(input(\"Enter the price of the item\"))\n",
    "d=0\n",
    "if a>=1000:\n",
    "    d=0.1\n",
    "elif a>500 and a<1000:\n",
    "    d=0.05\n",
    "new_price=a-(a*d)\n",
    "print(\"The new price of the item is\",new_price)"
   ]
  },
  {
   "cell_type": "markdown",
   "id": "f4c0b1c9",
   "metadata": {},
   "source": [
    "27. Develop a program to calculate the electricity bill based on different consumption slabs using elif\n",
    "statements."
   ]
  },
  {
   "cell_type": "code",
   "execution_count": 72,
   "id": "e401c642",
   "metadata": {},
   "outputs": [
    {
     "name": "stdout",
     "output_type": "stream",
     "text": [
      "Enter the amount of electricity used 658\n",
      "The electricity bill based on usage is$ 2632.0\n"
     ]
    }
   ],
   "source": [
    "a=float(input(\"Enter the amount of electricity used \"))\n",
    "b=2.5\n",
    "c=3.0\n",
    "d=4.0\n",
    "bill=0\n",
    "if a<=100:\n",
    "    bill=a*b\n",
    "elif a>100 and a<=200:\n",
    "    bill=a*c\n",
    "else:\n",
    "    bill=a*d\n",
    "print(\"The electricity bill based on usage is$\",bill)"
   ]
  },
  {
   "cell_type": "markdown",
   "id": "8a77dd6a",
   "metadata": {},
   "source": [
    "28. Create a program to determine the type of quadrilateral based on its angles and sides using elif\n",
    "statements."
   ]
  },
  {
   "cell_type": "code",
   "execution_count": 73,
   "id": "1534d624",
   "metadata": {},
   "outputs": [
    {
     "name": "stdout",
     "output_type": "stream",
     "text": [
      "Enter the first angle in degrees: 90\n",
      "Enter the second angle in degrees: 90\n",
      "Enter the third angle in degrees: 90\n",
      "Enter the fourth angle in degrees: 90\n",
      "Enter the length of side 1: 6\n",
      "Enter the length of side 2: 6\n",
      "Enter the length of side 3: 6\n",
      "Enter the length of side 4: 6\n",
      "It is a square.\n"
     ]
    }
   ],
   "source": [
    "# Input the angles of the quadrilateral\n",
    "angle1 = float(input(\"Enter the first angle in degrees: \"))\n",
    "angle2 = float(input(\"Enter the second angle in degrees: \"))\n",
    "angle3 = float(input(\"Enter the third angle in degrees: \"))\n",
    "angle4 = float(input(\"Enter the fourth angle in degrees: \"))\n",
    "\n",
    "# Input the lengths of the sides\n",
    "side1 = float(input(\"Enter the length of side 1: \"))\n",
    "side2 = float(input(\"Enter the length of side 2: \"))\n",
    "side3 = float(input(\"Enter the length of side 3: \"))\n",
    "side4 = float(input(\"Enter the length of side 4: \"))\n",
    "\n",
    "# Check the type of quadrilateral based on angles and sides\n",
    "if angle1 == angle2 == angle3 == angle4 == 90:\n",
    "    if side1 == side2 == side3 == side4:\n",
    "        print(\"It is a square.\")\n",
    "    else:\n",
    "        print(\"It is a rectangle.\")\n",
    "elif angle1 == angle2 == angle3 == angle4:\n",
    "    print(\"It is a parallelogram.\")\n",
    "elif side1 == side2 == side3 == side4:\n",
    "    print(\"It is a rhombus.\")\n",
    "else:\n",
    "    print(\"It is a general quadrilateral.\")\n"
   ]
  },
  {
   "cell_type": "markdown",
   "id": "a39e9e8e",
   "metadata": {},
   "source": [
    "29. Write a Python script to determine the season based on a user-provided month using elif statements."
   ]
  },
  {
   "cell_type": "code",
   "execution_count": 74,
   "id": "64cf834a",
   "metadata": {},
   "outputs": [
    {
     "name": "stdout",
     "output_type": "stream",
     "text": [
      "Enter a month (1-12): 5\n",
      "The season for month 5 is Spring.\n"
     ]
    }
   ],
   "source": [
    "# Input the month as an integer (1-12)\n",
    "month = int(input(\"Enter a month (1-12): \"))\n",
    "\n",
    "# Check the season based on the month\n",
    "if 3 <= month <= 5:\n",
    "    season = \"Spring\"\n",
    "elif 6 <= month <= 8:\n",
    "    season = \"Summer\"\n",
    "elif 9 <= month <= 11:\n",
    "    season = \"Autumn\"\n",
    "elif month == 12 or month == 1 or month == 2:\n",
    "    season = \"Winter\"\n",
    "else:\n",
    "    season = \"Invalid month\"\n",
    "\n",
    "# Display the result\n",
    "if season != \"Invalid month\":\n",
    "    print(f\"The season for month {month} is {season}.\")\n",
    "else:\n",
    "    print(\"Invalid input. Please enter a month between 1 and 12.\")\n"
   ]
  },
  {
   "cell_type": "markdown",
   "id": "7590b74a",
   "metadata": {},
   "source": [
    "30. Implement a program to determine the type of a year (leap or common) and month (30 or 31 days) using\n",
    "elif statements."
   ]
  },
  {
   "cell_type": "code",
   "execution_count": 76,
   "id": "4eef3d8f",
   "metadata": {},
   "outputs": [
    {
     "name": "stdout",
     "output_type": "stream",
     "text": [
      "Enter the year2020\n",
      "Enter a num from 1-125\n",
      "The year 2020 is a leap year, and month 5 has 31 days.\n"
     ]
    }
   ],
   "source": [
    "year=int(input(\"Enter the year\"))\n",
    "b=(year%4==0)and(year%100!=0)or(year%400==0)\n",
    "month=int(input(\"Enter a num from 1-12\"))\n",
    "if month==2:\n",
    "    if b:\n",
    "        days=29\n",
    "    else:\n",
    "        das=28\n",
    "elif month in[4,6,9,11]:\n",
    "    days=30\n",
    "elif month in[1,3,5,7,8,12]:\n",
    "    days=31\n",
    "else:\n",
    "    days=-1\n",
    "if days==-1:\n",
    "    print(\"Invalid\")\n",
    "else:\n",
    "    if b:\n",
    "        year_type = \"leap\"\n",
    "    else:\n",
    "        year_type = \"common\"\n",
    "print(f\"The year {year} is a {year_type} year, and month {month} has {days} days.\")"
   ]
  },
  {
   "cell_type": "markdown",
   "id": "4d6794bb",
   "metadata": {},
   "source": [
    "# Basic Level:"
   ]
  },
  {
   "cell_type": "markdown",
   "id": "7d8e54c7",
   "metadata": {},
   "source": [
    "1. Write a Python program that checks if a given number is positive, negative, or zero."
   ]
  },
  {
   "cell_type": "code",
   "execution_count": 1,
   "id": "284fe028",
   "metadata": {},
   "outputs": [
    {
     "name": "stdout",
     "output_type": "stream",
     "text": [
      "Enter a number: 8\n",
      "The number is positive.\n"
     ]
    }
   ],
   "source": [
    "# Input a number from the user\n",
    "num = float(input(\"Enter a number: \"))\n",
    "\n",
    "# Check if the number is positive, negative, or zero\n",
    "if num > 0:\n",
    "    print(\"The number is positive.\")\n",
    "elif num < 0:\n",
    "    print(\"The number is negative.\")\n",
    "else:\n",
    "    print(\"The number is zero.\")\n"
   ]
  },
  {
   "cell_type": "markdown",
   "id": "a02997ab",
   "metadata": {},
   "source": [
    "2. Create a program to determine if a person is eligible to vote based on their age."
   ]
  },
  {
   "cell_type": "code",
   "execution_count": 2,
   "id": "da0d5602",
   "metadata": {},
   "outputs": [
    {
     "name": "stdout",
     "output_type": "stream",
     "text": [
      "Enter your age: 34\n",
      "You are eligible to vote.\n"
     ]
    }
   ],
   "source": [
    "# Input the age of the person\n",
    "age = int(input(\"Enter your age: \"))\n",
    "\n",
    "# Check if the person is eligible to vote\n",
    "if age >= 18:\n",
    "    print(\"You are eligible to vote.\")\n",
    "else:\n",
    "    print(\"You are not eligible to vote.\")\n"
   ]
  },
  {
   "cell_type": "markdown",
   "id": "f252d94d",
   "metadata": {},
   "source": [
    "3. Write a program to find the maximum of two given numbers using conditional statements."
   ]
  },
  {
   "cell_type": "code",
   "execution_count": 3,
   "id": "8e3e8826",
   "metadata": {},
   "outputs": [
    {
     "name": "stdout",
     "output_type": "stream",
     "text": [
      "Enter the first number: 3\n",
      "Enter the second number: 4\n",
      "The maximum number is: 4.0\n"
     ]
    }
   ],
   "source": [
    "# Input two numbers from the user\n",
    "num1 = float(input(\"Enter the first number: \"))\n",
    "num2 = float(input(\"Enter the second number: \"))\n",
    "\n",
    "# Check which number is greater and print the maximum\n",
    "if num1 > num2:\n",
    "    print(\"The maximum number is:\", num1)\n",
    "elif num2 > num1:\n",
    "    print(\"The maximum number is:\", num2)\n",
    "else:\n",
    "    print(\"Both numbers are equal.\")\n"
   ]
  },
  {
   "cell_type": "markdown",
   "id": "7118f890",
   "metadata": {},
   "source": [
    "4. Develop a program that calculates the grade of a student based on their exam score."
   ]
  },
  {
   "cell_type": "code",
   "execution_count": 4,
   "id": "22ae3584",
   "metadata": {},
   "outputs": [
    {
     "name": "stdout",
     "output_type": "stream",
     "text": [
      "Enter the marks obtained by student: 69\n",
      "You got B\n"
     ]
    }
   ],
   "source": [
    "a = int(input(\"Enter the marks obtained by student: \"))\n",
    "\n",
    "if a >= 90 and a <= 100:\n",
    "    print(\"You got an O Grade\")\n",
    "elif a >= 80 and a < 90:\n",
    "    print(\"You got A+\")\n",
    "elif a >= 70 and a < 80:\n",
    "    print(\"You got A\")\n",
    "elif a >= 60 and a < 70:\n",
    "    print(\"You got B\")\n",
    "elif a >= 50 and a < 60:\n",
    "    print(\"You got C\")\n",
    "elif a>=40 and a < 50:\n",
    "    print(\"You got D\")\n",
    "else:\n",
    "    print(\"You have Failed F\")\n"
   ]
  },
  {
   "cell_type": "markdown",
   "id": "dca74730",
   "metadata": {},
   "source": [
    "5. Create a program that checks if a year is a leap year or not."
   ]
  },
  {
   "cell_type": "code",
   "execution_count": 5,
   "id": "80795467",
   "metadata": {},
   "outputs": [
    {
     "name": "stdout",
     "output_type": "stream",
     "text": [
      "Enter a year: 2022\n",
      "2022 is not a leap year.\n"
     ]
    }
   ],
   "source": [
    "# Input year from the user\n",
    "year = int(input(\"Enter a year: \"))\n",
    "\n",
    "# Check if it's a leap year\n",
    "if (year % 4 == 0 and year % 100 != 0) or (year % 400 == 0):\n",
    "    print(year, \"is a leap year.\")\n",
    "else:\n",
    "    print(year, \"is not a leap year.\")\n"
   ]
  },
  {
   "cell_type": "markdown",
   "id": "abec94b6",
   "metadata": {},
   "source": [
    "6. Write a program to classify a triangle based on its sides' lengths."
   ]
  },
  {
   "cell_type": "code",
   "execution_count": 6,
   "id": "3a28c739",
   "metadata": {},
   "outputs": [
    {
     "name": "stdout",
     "output_type": "stream",
     "text": [
      "Enter the length of the first side: 60\n",
      "Enter the length of the second side: 60\n",
      "Enter the length of the third side: 60\n",
      "It's an equilateral triangle.\n"
     ]
    }
   ],
   "source": [
    "# Input lengths of the three sides from the user\n",
    "side1 = float(input(\"Enter the length of the first side: \"))\n",
    "side2 = float(input(\"Enter the length of the second side: \"))\n",
    "side3 = float(input(\"Enter the length of the third side: \"))\n",
    "\n",
    "# Check if it's a valid triangle\n",
    "if side1 + side2 > side3 and side1 + side3 > side2 and side2 + side3 > side1:\n",
    "    # Check the type of triangle\n",
    "    if side1 == side2 == side3:\n",
    "        print(\"It's an equilateral triangle.\")\n",
    "    elif side1 == side2 or side1 == side3 or side2 == side3:\n",
    "        print(\"It's an isosceles triangle.\")\n",
    "    else:\n",
    "        print(\"It's a scalene triangle.\")\n",
    "else:\n",
    "    print(\"It's not a valid triangle.\")\n"
   ]
  },
  {
   "cell_type": "code",
   "execution_count": 7,
   "id": "dc534d02",
   "metadata": {},
   "outputs": [
    {
     "name": "stdout",
     "output_type": "stream",
     "text": [
      "Enter the First angle45\n",
      "Enter the Second angle45\n",
      "Enter the third angle90\n",
      "Triangle is isosceles\n"
     ]
    }
   ],
   "source": [
    "a=int(input(\"Enter the First angle\"))\n",
    "b=int(input(\"Enter the Second angle\"))\n",
    "c=int(input(\"Enter the third angle\"))\n",
    "if a+b+c==180:\n",
    "    if a==b==c:\n",
    "        print(\"Triangle is equilateral\")\n",
    "    elif (a==b and a!=c) or (a==c and a!=b) or(b==c and b!=a):\n",
    "        print(\"Triangle is isosceles\")\n",
    "    else:\n",
    "        print(\"Triangle is scalene\")\n",
    "else:\n",
    "    print(\"The values you entered will not form a triangle\")\n"
   ]
  },
  {
   "cell_type": "markdown",
   "id": "88f9782f",
   "metadata": {},
   "source": [
    "7. Build a program that determines the largest of three given numbers."
   ]
  },
  {
   "cell_type": "code",
   "execution_count": 8,
   "id": "b9cb0294",
   "metadata": {},
   "outputs": [
    {
     "name": "stdout",
     "output_type": "stream",
     "text": [
      "Enter the first number: 5\n",
      "Enter the second number: 6\n",
      "Enter the third number: 7\n",
      "The largest number is: 7.0\n"
     ]
    }
   ],
   "source": [
    "# Input three numbers from the user\n",
    "num1 = float(input(\"Enter the first number: \"))\n",
    "num2 = float(input(\"Enter the second number: \"))\n",
    "num3 = float(input(\"Enter the third number: \"))\n",
    "\n",
    "# Compare the numbers to find the largest\n",
    "if num1 >= num2 and num1 >= num3:\n",
    "    largest = num1\n",
    "elif num2 >= num1 and num2 >= num3:\n",
    "    largest = num2\n",
    "else:\n",
    "    largest = num3\n",
    "\n",
    "# Print the largest number\n",
    "print(\"The largest number is:\", largest)\n"
   ]
  },
  {
   "cell_type": "code",
   "execution_count": 9,
   "id": "50086520",
   "metadata": {},
   "outputs": [
    {
     "name": "stdout",
     "output_type": "stream",
     "text": [
      "Enter the first number: 3\n",
      "Enter the second number: 4\n",
      "Enter the third number: 5\n",
      "5.0\n"
     ]
    }
   ],
   "source": [
    "# Input three numbers from the user\n",
    "num1 = float(input(\"Enter the first number: \"))\n",
    "num2 = float(input(\"Enter the second number: \"))\n",
    "num3 = float(input(\"Enter the third number: \"))\n",
    "print(max(num1,num2,num3))"
   ]
  },
  {
   "cell_type": "markdown",
   "id": "8977b0c8",
   "metadata": {},
   "source": [
    "8. Develop a program that checks whether a character is a vowel or a consonant."
   ]
  },
  {
   "cell_type": "code",
   "execution_count": 10,
   "id": "ccf48807",
   "metadata": {},
   "outputs": [
    {
     "name": "stdout",
     "output_type": "stream",
     "text": [
      "Enter a character: r\n",
      "r is a consonant.\n"
     ]
    }
   ],
   "source": [
    "# Input a character from the user\n",
    "char = input(\"Enter a character: \")\n",
    "\n",
    "# Convert the character to lowercase to handle both upper and lower case\n",
    "char = char.lower()\n",
    "\n",
    "# Check if the character is a vowel or a consonant\n",
    "if char.isalpha() and len(char) == 1:\n",
    "    if char in ['a', 'e', 'i', 'o', 'u']:\n",
    "        print(char, \"is a vowel.\")\n",
    "    else:\n",
    "        print(char, \"is a consonant.\")\n",
    "else:\n",
    "    print(\"Invalid input. Please enter a single alphabet character.\")\n"
   ]
  },
  {
   "cell_type": "markdown",
   "id": "ee8e8e46",
   "metadata": {},
   "source": [
    "9. Create a program to calculate the total cost of a shopping cart based on discounts."
   ]
  },
  {
   "cell_type": "code",
   "execution_count": 11,
   "id": "2dc94071",
   "metadata": {},
   "outputs": [
    {
     "name": "stdout",
     "output_type": "stream",
     "text": [
      "Enter the price of the item1000\n",
      "The new price of the item is 800.0\n"
     ]
    }
   ],
   "source": [
    "a=float(input(\"Enter the price of the item\"))\n",
    "d=0\n",
    "if a>=1000:\n",
    "    d=0.2\n",
    "elif a>500 and a<1000:\n",
    "    d=0.05\n",
    "new_price=a-(a*d)\n",
    "print(\"The new price of the item is\",new_price)"
   ]
  },
  {
   "cell_type": "markdown",
   "id": "a85e05e0",
   "metadata": {},
   "source": [
    "10. Write a program that checks if a given number is even or odd."
   ]
  },
  {
   "cell_type": "code",
   "execution_count": 12,
   "id": "cdfb9d64",
   "metadata": {},
   "outputs": [
    {
     "name": "stdout",
     "output_type": "stream",
     "text": [
      "Enter a number: 5\n",
      "5 is odd.\n"
     ]
    }
   ],
   "source": [
    "# Input a number from the user\n",
    "number = int(input(\"Enter a number: \"))\n",
    "\n",
    "# Check if the number is even or odd\n",
    "if number % 2 == 0:\n",
    "    print(number, \"is even.\")\n",
    "else:\n",
    "    print(number, \"is odd.\")\n"
   ]
  },
  {
   "cell_type": "markdown",
   "id": "1169f4a9",
   "metadata": {},
   "source": [
    "# Intermediate Level:"
   ]
  },
  {
   "cell_type": "markdown",
   "id": "53ea53a5",
   "metadata": {},
   "source": [
    "11. Write a program that calculates the roots of a quadratic equation ."
   ]
  },
  {
   "cell_type": "code",
   "execution_count": 13,
   "id": "1405c367",
   "metadata": {},
   "outputs": [
    {
     "name": "stdout",
     "output_type": "stream",
     "text": [
      "Enter the coefficient 'a': 1\n",
      "Enter the coefficient 'b': -4\n",
      "Enter the coefficient 'c': 3\n",
      "Root 1 = 3.0\n",
      "Root 2 = 1.0\n"
     ]
    }
   ],
   "source": [
    "import math\n",
    "\n",
    "# Input coefficients of the quadratic equation\n",
    "a = float(input(\"Enter the coefficient 'a': \"))\n",
    "b = float(input(\"Enter the coefficient 'b': \"))\n",
    "c = float(input(\"Enter the coefficient 'c': \"))\n",
    "\n",
    "# Calculate the discriminant\n",
    "discriminant = b**2 - 4*a*c\n",
    "\n",
    "# Check the discriminant to determine the nature of roots\n",
    "if discriminant > 0:\n",
    "    # Two real and distinct roots\n",
    "    root1 = (-b + math.sqrt(discriminant)) / (2*a)\n",
    "    root2 = (-b - math.sqrt(discriminant)) / (2*a)\n",
    "    print(\"Root 1 =\", root1)\n",
    "    print(\"Root 2 =\", root2)\n",
    "elif discriminant == 0:\n",
    "    # One real root (repeated)\n",
    "    root = -b / (2*a)\n",
    "    print(\"Root =\", root)\n",
    "else:\n",
    "    # Complex roots\n",
    "    real_part = -b / (2*a)\n",
    "    imaginary_part = math.sqrt(abs(discriminant)) / (2*a)\n",
    "    print(\"Root 1 =\", real_part, \"+\", imaginary_part, \"i\")\n",
    "    print(\"Root 2 =\", real_part, \"-\", imaginary_part, \"i\")\n"
   ]
  },
  {
   "cell_type": "markdown",
   "id": "9b055863",
   "metadata": {},
   "source": [
    "12. Create a program that determines the day of the week based on the day number (1-7)."
   ]
  },
  {
   "cell_type": "code",
   "execution_count": 14,
   "id": "1e9bf43d",
   "metadata": {},
   "outputs": [
    {
     "name": "stdout",
     "output_type": "stream",
     "text": [
      "Enter a day number (1-7): 5\n",
      "Day number 5 corresponds to Thursday.\n"
     ]
    }
   ],
   "source": [
    "# Input the day number from the user (1-7)\n",
    "day_number = int(input(\"Enter a day number (1-7): \"))\n",
    "\n",
    "# Define a list of days of the week\n",
    "days_of_week = [\"Sunday\", \"Monday\", \"Tuesday\", \"Wednesday\", \"Thursday\", \"Friday\", \"Saturday\"]\n",
    "\n",
    "# Check if the input is within the valid range\n",
    "if 1 <= day_number <= 7:\n",
    "    day_name = days_of_week[day_number - 1]\n",
    "    print(f\"Day number {day_number} corresponds to {day_name}.\")\n",
    "else:\n",
    "    print(\"Invalid input. Please enter a day number between 1 and 7.\")\n"
   ]
  },
  {
   "cell_type": "code",
   "execution_count": 16,
   "id": "efde28f5",
   "metadata": {},
   "outputs": [
    {
     "name": "stdout",
     "output_type": "stream",
     "text": [
      "Enter a day number (1-7): 4\n",
      "Day 4 is Wednesday\n"
     ]
    }
   ],
   "source": [
    "# Input the day number from the user (1-7)\n",
    "day_number = int(input(\"Enter a day number (1-7): \"))\n",
    "\n",
    "# Check the day of the week based on the day number\n",
    "if day_number == 1:\n",
    "    day = \"Sunday\"\n",
    "elif day_number == 2:\n",
    "    day = \"Monday\"\n",
    "elif day_number == 3:\n",
    "    day = \"Tuesday\"\n",
    "elif day_number == 4:\n",
    "    day = \"Wednesday\"\n",
    "elif day_number == 5:\n",
    "    day = \"Thursday\"\n",
    "elif day_number == 6:\n",
    "    day = \"Friday\"\n",
    "elif day_number == 7:\n",
    "    day = \"Saturday\"\n",
    "else:\n",
    "    day = \"Invalid day number\"\n",
    "\n",
    "# Print the day of the week\n",
    "print(\"Day\", day_number, \"is\", day)\n"
   ]
  },
  {
   "cell_type": "markdown",
   "id": "792d749a",
   "metadata": {},
   "source": [
    "13. Develop a program that calculates the factorial of a given number using recursion."
   ]
  },
  {
   "cell_type": "code",
   "execution_count": 17,
   "id": "4a24453e",
   "metadata": {},
   "outputs": [
    {
     "name": "stdout",
     "output_type": "stream",
     "text": [
      "Enter a number: 5\n",
      "The factorial of 5 is 120\n"
     ]
    }
   ],
   "source": [
    "# Function to calculate factorial using recursion\n",
    "def factorial(n):\n",
    "    if n == 0:\n",
    "        return 1\n",
    "    else:\n",
    "        return n * factorial(n - 1)\n",
    "\n",
    "# Input a number from the user\n",
    "num = int(input(\"Enter a number: \"))\n",
    "\n",
    "# Check if the input is a non-negative integer\n",
    "if num < 0:\n",
    "    print(\"Factorial is not defined for negative numbers.\")\n",
    "else:\n",
    "    result = factorial(num)\n",
    "    print(f\"The factorial of {num} is {result}\")\n"
   ]
  },
  {
   "cell_type": "markdown",
   "id": "cdfc2402",
   "metadata": {},
   "source": [
    "14. Write a program to find the largest among three numbers without using the `max()` function."
   ]
  },
  {
   "cell_type": "code",
   "execution_count": 18,
   "id": "8e3a4f7b",
   "metadata": {},
   "outputs": [
    {
     "name": "stdout",
     "output_type": "stream",
     "text": [
      "Enter the first number: 4\n",
      "Enter the second number: 5\n",
      "Enter the third number: 7\n",
      "The largest number is: 7.0\n"
     ]
    }
   ],
   "source": [
    "# Input three numbers from the user\n",
    "num1 = float(input(\"Enter the first number: \"))\n",
    "num2 = float(input(\"Enter the second number: \"))\n",
    "num3 = float(input(\"Enter the third number: \"))\n",
    "\n",
    "# Compare the numbers to find the largest\n",
    "if num1 >= num2 and num1 >= num3:\n",
    "    largest = num1\n",
    "elif num2 >= num1 and num2 >= num3:\n",
    "    largest = num2\n",
    "else:\n",
    "    largest = num3\n",
    "\n",
    "# Print the largest number\n",
    "print(\"The largest number is:\", largest)\n"
   ]
  },
  {
   "cell_type": "markdown",
   "id": "3ebfe149",
   "metadata": {},
   "source": [
    "15. Create a program that simulates a basic ATM transaction menu."
   ]
  },
  {
   "cell_type": "code",
   "execution_count": 19,
   "id": "71fe808f",
   "metadata": {},
   "outputs": [
    {
     "name": "stdout",
     "output_type": "stream",
     "text": [
      "ATM Menu:\n",
      "1. Check Balance\n",
      "2. Make Withdrawal\n",
      "3. Quit\n",
      "Enter your choice (1/2/3): 2\n",
      "Enter the withdrawal amount: $500\n",
      "Withdrew $500.00. Your new balance is $500.00\n",
      "ATM Menu:\n",
      "1. Check Balance\n",
      "2. Make Withdrawal\n",
      "3. Quit\n",
      "Enter your choice (1/2/3): 3\n",
      "Thank you for using the ATM. Goodbye!\n"
     ]
    }
   ],
   "source": [
    "# Initialize the account balance\n",
    "balance = 1000.0\n",
    "\n",
    "# Main program loop\n",
    "while True:\n",
    "    # Display the ATM menu\n",
    "    print(\"ATM Menu:\")\n",
    "    print(\"1. Check Balance\")\n",
    "    print(\"2. Make Withdrawal\")\n",
    "    print(\"3. Quit\")\n",
    "\n",
    "    # Get user input for menu choice\n",
    "    choice = input(\"Enter your choice (1/2/3): \")\n",
    "\n",
    "    if choice == '1':\n",
    "        print(f\"Your account balance is ${balance:.2f}\")\n",
    "    elif choice == '2':\n",
    "        withdrawal_amount = float(input(\"Enter the withdrawal amount: $\"))\n",
    "        if withdrawal_amount > balance:\n",
    "            print(\"Insufficient funds. Cannot withdraw.\")\n",
    "        else:\n",
    "            balance -= withdrawal_amount\n",
    "            print(f\"Withdrew ${withdrawal_amount:.2f}. Your new balance is ${balance:.2f}\")\n",
    "    elif choice == '3':\n",
    "        print(\"Thank you for using the ATM. Goodbye!\")\n",
    "        break\n",
    "    else:\n",
    "        print(\"Invalid choice. Please select a valid option (1/2/3).\")\n"
   ]
  },
  {
   "cell_type": "markdown",
   "id": "8075a3e6",
   "metadata": {},
   "source": [
    "16. Build a program that checks if a given string is a palindrome or not."
   ]
  },
  {
   "cell_type": "code",
   "execution_count": 20,
   "id": "30d87def",
   "metadata": {
    "scrolled": true
   },
   "outputs": [
    {
     "name": "stdout",
     "output_type": "stream",
     "text": [
      "Enter a string: fahad\n",
      "fahad is not a palindrome.\n"
     ]
    }
   ],
   "source": [
    "# Input string to check for palindrome\n",
    "user_input = input(\"Enter a string: \")\n",
    "\n",
    "# Remove spaces and convert to lowercase\n",
    "cleaned_string = ''.join(user_input.split()).lower()\n",
    "\n",
    "# Check if the cleaned string is equal to its reverse\n",
    "if cleaned_string == cleaned_string[::-1]:\n",
    "    print(f\"{user_input} is a palindrome.\")\n",
    "else:\n",
    "    print(f\"{user_input} is not a palindrome.\")\n"
   ]
  },
  {
   "cell_type": "markdown",
   "id": "46c3f43e",
   "metadata": {},
   "source": [
    "17. Write a program that calculates the average of a list of numbers, excluding the smallest and largest values."
   ]
  },
  {
   "cell_type": "code",
   "execution_count": 21,
   "id": "0b6bd454",
   "metadata": {},
   "outputs": [
    {
     "name": "stdout",
     "output_type": "stream",
     "text": [
      "Enter a list of numbers separated by commas: 1,2,3,4,5,6,7,8,9\n",
      "The average of the numbers (excluding the smallest and largest) is 5.00\n"
     ]
    }
   ],
   "source": [
    "# Input a list of numbers as a comma-separated string\n",
    "numbers_str = input(\"Enter a list of numbers separated by commas: \")\n",
    "\n",
    "# Convert the input string into a list of floats\n",
    "numbers_list = [float(x) for x in numbers_str.split(',')]\n",
    "\n",
    "# Check if there are at least 3 numbers in the list\n",
    "if len(numbers_list) < 3:\n",
    "    print(\"You need to input at least 3 numbers.\")\n",
    "else:\n",
    "    # Remove the smallest and largest values from the list\n",
    "    numbers_list.remove(min(numbers_list))\n",
    "    numbers_list.remove(max(numbers_list))\n",
    "\n",
    "    # Calculate the average of the remaining numbers\n",
    "    average = sum(numbers_list) / len(numbers_list)\n",
    "    print(f\"The average of the numbers (excluding the smallest and largest) is {average:.2f}\")\n"
   ]
  },
  {
   "cell_type": "markdown",
   "id": "4419a7ab",
   "metadata": {},
   "source": [
    "18. Develop a program that converts a given temperature from Celsius to Fahrenheit."
   ]
  },
  {
   "cell_type": "code",
   "execution_count": 22,
   "id": "bf2b5715",
   "metadata": {},
   "outputs": [
    {
     "name": "stdout",
     "output_type": "stream",
     "text": [
      "Enter temperature in Celsius: 36\n",
      "36.0 degrees Celsius is equal to 96.8 degrees Fahrenheit.\n"
     ]
    }
   ],
   "source": [
    "# Input temperature in Celsius\n",
    "celsius = float(input(\"Enter temperature in Celsius: \"))\n",
    "\n",
    "# Convert Celsius to Fahrenheit\n",
    "fahrenheit = (celsius * 9/5) + 32\n",
    "\n",
    "# Display the result\n",
    "print(f\"{celsius} degrees Celsius is equal to {fahrenheit} degrees Fahrenheit.\")\n"
   ]
  },
  {
   "cell_type": "markdown",
   "id": "00451aa1",
   "metadata": {},
   "source": [
    "19. Create a program that simulates a basic calculator for addition, subtraction, multiplication, and division."
   ]
  },
  {
   "cell_type": "code",
   "execution_count": 23,
   "id": "556c0bd7",
   "metadata": {},
   "outputs": [
    {
     "name": "stdout",
     "output_type": "stream",
     "text": [
      "Basic Calculator Menu:\n",
      "1. Addition\n",
      "2. Subtraction\n",
      "3. Multiplication\n",
      "4. Division\n",
      "5. Quit\n",
      "Enter your choice (1/2/3/4/5): 1\n",
      "Enter the first number: 5\n",
      "Enter the second number: 6\n",
      "The result of addition is: 11.0\n",
      "Basic Calculator Menu:\n",
      "1. Addition\n",
      "2. Subtraction\n",
      "3. Multiplication\n",
      "4. Division\n",
      "5. Quit\n",
      "Enter your choice (1/2/3/4/5): 5\n",
      "Thank you for using the calculator. Goodbye!\n"
     ]
    }
   ],
   "source": [
    "while True:\n",
    "    # Display the calculator menu\n",
    "    print(\"Basic Calculator Menu:\")\n",
    "    print(\"1. Addition\")\n",
    "    print(\"2. Subtraction\")\n",
    "    print(\"3. Multiplication\")\n",
    "    print(\"4. Division\")\n",
    "    print(\"5. Quit\")\n",
    "\n",
    "    # Get user choice\n",
    "    choice = input(\"Enter your choice (1/2/3/4/5): \")\n",
    "\n",
    "    if choice == '1':\n",
    "        num1 = float(input(\"Enter the first number: \"))\n",
    "        num2 = float(input(\"Enter the second number: \"))\n",
    "        result = num1 + num2\n",
    "        print(f\"The result of addition is: {result}\")\n",
    "    elif choice == '2':\n",
    "        num1 = float(input(\"Enter the first number: \"))\n",
    "        num2 = float(input(\"Enter the second number: \"))\n",
    "        result = num1 - num2\n",
    "        print(f\"The result of subtraction is: {result}\")\n",
    "    elif choice == '3':\n",
    "        num1 = float(input(\"Enter the first number: \"))\n",
    "        num2 = float(input(\"Enter the second number: \"))\n",
    "        result = num1 * num2\n",
    "        print(f\"The result of multiplication is: {result}\")\n",
    "    elif choice == '4':\n",
    "        num1 = float(input(\"Enter the dividend: \"))\n",
    "        num2 = float(input(\"Enter the divisor: \"))\n",
    "        if num2 == 0:\n",
    "            print(\"Error: Division by zero!\")\n",
    "        else:\n",
    "            result = num1 / num2\n",
    "            print(f\"The result of division is: {result}\")\n",
    "    elif choice == '5':\n",
    "        print(\"Thank you for using the calculator. Goodbye!\")\n",
    "        break\n",
    "    else:\n",
    "        print(\"Invalid choice. Please select a valid option (1/2/3/4/5).\")\n",
    "\n",
    "        "
   ]
  },
  {
   "cell_type": "markdown",
   "id": "a4658fc4",
   "metadata": {},
   "source": [
    "20. Write a program that determines the roots of a cubic equation using the Cardano formula."
   ]
  },
  {
   "cell_type": "code",
   "execution_count": 24,
   "id": "5d965773",
   "metadata": {},
   "outputs": [
    {
     "name": "stdout",
     "output_type": "stream",
     "text": [
      "Enter coefficient a: 5\n",
      "Enter coefficient b: 4\n",
      "Enter coefficient c: 2\n",
      "Enter coefficient d: 3\n",
      "Root 1: -1.0000\n",
      "Root 2: 0.1000-0.7681j\n",
      "Root 3: 0.1000+0.7681j\n"
     ]
    }
   ],
   "source": [
    "import math\n",
    "\n",
    "# Input coefficients of the cubic equation: ax^3 + bx^2 + cx + d = 0\n",
    "a = float(input(\"Enter coefficient a: \"))\n",
    "b = float(input(\"Enter coefficient b: \"))\n",
    "c = float(input(\"Enter coefficient c: \"))\n",
    "d = float(input(\"Enter coefficient d: \"))\n",
    "\n",
    "# Calculate the discriminant and intermediate values\n",
    "delta0 = b**2 - 3*a*c\n",
    "delta1 = 2*b**3 - 9*a*b*c + 27*a**2*d\n",
    "C = ((delta1 + math.sqrt(delta1**2 - 4*delta0**3)) / 2)**(1/3)\n",
    "\n",
    "# Calculate the roots\n",
    "root1 = (-1 / (3*a)) * (b + C + delta0/C)\n",
    "root2 = (-1 / (3*a)) * (b + complex(-0.5, math.sqrt(3)/2) * C + complex(-0.5, -math.sqrt(3)/2) * delta0/C)\n",
    "root3 = (-1 / (3*a)) * (b + complex(-0.5, -math.sqrt(3)/2) * C + complex(-0.5, math.sqrt(3)/2) * delta0/C)\n",
    "\n",
    "# Display the roots\n",
    "print(f\"Root 1: {root1:.4f}\")\n",
    "print(f\"Root 2: {root2:.4f}\")\n",
    "print(f\"Root 3: {root3:.4f}\")\n"
   ]
  },
  {
   "cell_type": "markdown",
   "id": "8b27c222",
   "metadata": {},
   "source": [
    "# Advanced Level:"
   ]
  },
  {
   "cell_type": "markdown",
   "id": "c5b52e34",
   "metadata": {},
   "source": [
    "21. Create a program that calculates the income tax based on the user's income and tax brackets."
   ]
  },
  {
   "cell_type": "code",
   "execution_count": 1,
   "id": "71a7fa0e",
   "metadata": {},
   "outputs": [
    {
     "name": "stdout",
     "output_type": "stream",
     "text": [
      "Enter your income: 4000\n",
      "Your income tax owed is: $400.00\n"
     ]
    }
   ],
   "source": [
    "# Define the tax brackets and rates\n",
    "tax_brackets = [(0, 9875), (9876, 40125), (40126, 85525), (85526, 163300), (163301, 207350), (207351, 518400)]\n",
    "tax_rates = [0.1, 0.12, 0.22, 0.24, 0.32, 0.35, 0.37]\n",
    "\n",
    "# Get user's income\n",
    "income = input(\"Enter your income: \")\n",
    "\n",
    "# Check if the input is a valid number\n",
    "if income.isdigit():\n",
    "    income = int(income)\n",
    "    tax_owed = 0\n",
    "\n",
    "    # Calculate tax based on the tax brackets\n",
    "    for i in range(len(tax_brackets)):\n",
    "        lower, upper = tax_brackets[i]\n",
    "        rate = tax_rates[i]\n",
    "\n",
    "        if income <= lower:\n",
    "            break\n",
    "        elif income <= upper:\n",
    "            tax_owed += (income - lower) * rate\n",
    "            break\n",
    "        else:\n",
    "            tax_owed += (upper - lower) * rate\n",
    "\n",
    "    print(f\"Your income tax owed is: ${tax_owed:.2f}\")\n",
    "else:\n",
    "    print(\"Invalid input. Please enter a valid income as a positive integer.\")\n"
   ]
  },
  {
   "cell_type": "markdown",
   "id": "7eb3079a",
   "metadata": {},
   "source": [
    "22. Write a program that simulates a rock-paper-scissors game against the computer."
   ]
  },
  {
   "cell_type": "code",
   "execution_count": 9,
   "id": "3ad67d60",
   "metadata": {},
   "outputs": [
    {
     "name": "stdout",
     "output_type": "stream",
     "text": [
      "Enter your choice (rock, paper, or scissors): rock\n",
      "Your choice: rock\n",
      "Computer's choice: paper\n",
      "Computer wins!\n"
     ]
    }
   ],
   "source": [
    "import random\n",
    "\n",
    "# Define the choices\n",
    "choices = [\"rock\", \"paper\", \"scissors\"]\n",
    "\n",
    "# Get user's choice\n",
    "user_choice = input(\"Enter your choice (rock, paper, or scissors): \").lower()\n",
    "\n",
    "# Check if the user's choice is valid\n",
    "if user_choice not in choices:\n",
    "    print(\"Invalid choice. Please choose from rock, paper, or scissors.\")\n",
    "else:\n",
    "    # Generate a random choice for the computer\n",
    "    computer_choice = random.choice(choices)\n",
    "\n",
    "    # Display the choices\n",
    "    print(f\"Your choice: {user_choice}\")\n",
    "    print(f\"Computer's choice: {computer_choice}\")\n",
    "\n",
    "    # Determine the winner\n",
    "    if user_choice == computer_choice:\n",
    "        print(\"It's a tie!\")\n",
    "    elif (\n",
    "        (user_choice == \"rock\" and computer_choice == \"scissors\")\n",
    "        or (user_choice == \"paper\" and computer_choice == \"rock\")\n",
    "        or (user_choice == \"scissors\" and computer_choice == \"paper\")\n",
    "    ):\n",
    "        print(\"You win!\")\n",
    "    else:\n",
    "        print(\"Computer wins!\")\n",
    "        \n"
   ]
  },
  {
   "cell_type": "markdown",
   "id": "6ac76261",
   "metadata": {},
   "source": [
    "23. Develop a program that generates a random password based on user preferences (length, complexity)."
   ]
  },
  {
   "cell_type": "code",
   "execution_count": 10,
   "id": "044c501c",
   "metadata": {},
   "outputs": [
    {
     "name": "stdout",
     "output_type": "stream",
     "text": [
      "Enter the length of the password: 8\n",
      "Include lowercase letters? (yes/no): no\n",
      "Include uppercase letters? (yes/no): yes\n",
      "Include digits? (yes/no): yes\n",
      "Include special characters? (yes/no): no\n",
      "Generated Password: 1BA5FLVS\n"
     ]
    }
   ],
   "source": [
    "import random\n",
    "import string\n",
    "\n",
    "# Get user preferences\n",
    "length = int(input(\"Enter the length of the password: \"))\n",
    "use_lowercase = input(\"Include lowercase letters? (yes/no): \").lower() == \"yes\"\n",
    "use_uppercase = input(\"Include uppercase letters? (yes/no): \").lower() == \"yes\"\n",
    "use_digits = input(\"Include digits? (yes/no): \").lower() == \"yes\"\n",
    "use_special_chars = input(\"Include special characters? (yes/no): \").lower() == \"yes\"\n",
    "\n",
    "# Define character sets\n",
    "characters = \"\"\n",
    "if use_lowercase:\n",
    "    characters += string.ascii_lowercase\n",
    "if use_uppercase:\n",
    "    characters += string.ascii_uppercase\n",
    "if use_digits:\n",
    "    characters += string.digits\n",
    "if use_special_chars:\n",
    "    characters += string.punctuation\n",
    "\n",
    "# Check if at least one character set is selected\n",
    "if not characters:\n",
    "    print(\"Please select at least one character set.\")\n",
    "else:\n",
    "    # Generate the password\n",
    "    password = ''.join(random.choice(characters) yfor i in range(length))\n",
    "    print(\"Generated Password:\", password)\n"
   ]
  },
  {
   "cell_type": "markdown",
   "id": "567f309b",
   "metadata": {},
   "source": [
    "24. Create a program that implements a simple text-based adventure game with branching scenarios."
   ]
  },
  {
   "cell_type": "code",
   "execution_count": 12,
   "id": "f992c12c",
   "metadata": {},
   "outputs": [
    {
     "name": "stdout",
     "output_type": "stream",
     "text": [
      "Welcome to the Adventure Game!\n",
      "\n",
      "You find yourself standing in front of a mysterious cave.\n",
      "Do you want to enter the cave? (yes/no): yes\n",
      "\n",
      "You enter the cave and it's very dark inside.\n",
      "Do you want to use a flashlight? (yes/no): yes\n",
      "\n",
      "You turn on the flashlight and see a fork in the path ahead.\n",
      "Do you want to go left or right? (left/right): left\n",
      "\n",
      "You encounter a treasure chest filled with gold! You're rich!\n",
      "\n",
      "Thanks for playing the Adventure Game!\n"
     ]
    }
   ],
   "source": [
    "# Text-based adventure game\n",
    "\n",
    "print(\"Welcome to the Adventure Game!\")\n",
    "\n",
    "# Start of the game\n",
    "print(\"\\nYou find yourself standing in front of a mysterious cave.\")\n",
    "choice = input(\"Do you want to enter the cave? (yes/no): \").lower()\n",
    "\n",
    "if choice == \"yes\":\n",
    "    print(\"\\nYou enter the cave and it's very dark inside.\")\n",
    "    choice = input(\"Do you want to use a flashlight? (yes/no): \").lower()\n",
    "\n",
    "    if choice == \"yes\":\n",
    "        print(\"\\nYou turn on the flashlight and see a fork in the path ahead.\")\n",
    "        choice = input(\"Do you want to go left or right? (left/right): \").lower()\n",
    "\n",
    "        if choice == \"left\":\n",
    "            print(\"\\nYou encounter a treasure chest filled with gold! You're rich!\")\n",
    "        elif choice == \"right\":\n",
    "            print(\"\\nYou stumble into a trap and fall into a pit. Game over!\")\n",
    "        else:\n",
    "            print(\"Invalid choice. Game over!\")\n",
    "\n",
    "    elif choice == \"no\":\n",
    "        print(\"\\nYou decide to proceed in the dark. Unfortunately, you trip and fall into a pit. Game over!\")\n",
    "\n",
    "    else:\n",
    "        print(\"Invalid choice. Game over!\")\n",
    "\n",
    "elif choice == \"no\":\n",
    "    print(\"\\nYou decide not to enter the cave and go home instead. Game over!\")\n",
    "\n",
    "else:\n",
    "    print(\"Invalid choice. Game over!\")\n",
    "\n",
    "print(\"\\nThanks for playing the Adventure Game!\")\n"
   ]
  },
  {
   "cell_type": "markdown",
   "id": "4e958fa7",
   "metadata": {},
   "source": [
    "25. Build a program that solves a linear equation for x, considering different cases."
   ]
  },
  {
   "cell_type": "code",
   "execution_count": 13,
   "id": "fcb7d848",
   "metadata": {},
   "outputs": [
    {
     "name": "stdout",
     "output_type": "stream",
     "text": [
      "Enter the coefficient 'a' (a*x + b = 0): 3\n",
      "Enter the coefficient 'b' (a*x + b = 0): 3\n",
      "The solution to the linear equation 3.0*x + 3.0 = 0 is x = -1.00\n"
     ]
    }
   ],
   "source": [
    "# Get coefficients from the user\n",
    "a = float(input(\"Enter the coefficient 'a' (a*x + b = 0): \"))\n",
    "b = float(input(\"Enter the coefficient 'b' (a*x + b = 0): \"))\n",
    "\n",
    "# Check different cases of linear equations\n",
    "\n",
    "if a == 0 and b == 0:\n",
    "    print(\"Infinite solutions. The equation is trivial (0*x = 0).\")\n",
    "\n",
    "elif a == 0 and b != 0:\n",
    "    print(\"No solution. The equation is inconsistent (0*x + b = 0, where b is not 0).\")\n",
    "\n",
    "else:\n",
    "    x = -b / a\n",
    "    print(f\"The solution to the linear equation {a}*x + {b} = 0 is x = {x:.2f}\")\n"
   ]
  },
  {
   "cell_type": "markdown",
   "id": "97c0e59d",
   "metadata": {},
   "source": [
    "26. Write a program that simulates a basic quiz game with multiple-choice questions and scoring."
   ]
  },
  {
   "cell_type": "code",
   "execution_count": 14,
   "id": "0170bdc5",
   "metadata": {},
   "outputs": [
    {
     "name": "stdout",
     "output_type": "stream",
     "text": [
      "\n",
      "Question 1: Who is the director of Sahoo?\n",
      "A) Sujeeth\n",
      "B) Sukumar\n",
      "C) Vamsi\n",
      "D) None\n",
      "Your answer (A/B/C/D): a\n",
      "Correct!\n",
      "\n",
      "Question 2: Who is Known as God of Cricket?\n",
      "A) Sachin\n",
      "B) Rohit sharma\n",
      "C) Kholi\n",
      "D) SKY\n",
      "Your answer (A/B/C/D): a\n",
      "Correct!\n",
      "\n",
      "Question 3: Who is the Founder of PW Skills?\n",
      "A) Alakh pandey\n",
      "B) sunil varma\n",
      "C) sai charan\n",
      "D) Bhavani\n",
      "Your answer (A/B/C/D): a\n",
      "Correct!\n",
      "\n",
      "Quiz completed!\n",
      "Your score: 3/3\n"
     ]
    }
   ],
   "source": [
    "# Quiz questions and answers\n",
    "questions = [\n",
    "    {\n",
    "        \"question\": \"Who is the director of Sahoo?\",\n",
    "        \"options\": [\"A) Sujeeth\", \"B) Sukumar\", \"C) Vamsi\", \"D) None\"],\n",
    "        \"correct_answer\": \"A\",\n",
    "    },\n",
    "    {\n",
    "        \"question\": \"Who is Known as God of Cricket?\",\n",
    "        \"options\": [\"A) Sachin\", \"B) Rohit sharma\", \"C) Kholi\", \"D) SKY\"],\n",
    "        \"correct_answer\": \"A\",\n",
    "    },\n",
    "    {\n",
    "        \"question\": \"Who is the Founder of PW Skills?\",\n",
    "        \"options\": [\"A) Alakh pandey\", \"B) sunil varma\", \"C) sai charan\", \"D) Bhavani\"],\n",
    "        \"correct_answer\": \"A\",\n",
    "    },\n",
    "]\n",
    "\n",
    "# Initialize the score\n",
    "score = 0\n",
    "\n",
    "# Quiz loop\n",
    "for i, question in enumerate(questions, 1):\n",
    "    print(f\"\\nQuestion {i}: {question['question']}\")\n",
    "    for option in question[\"options\"]:\n",
    "        print(option)\n",
    "    \n",
    "    user_answer = input(\"Your answer (A/B/C/D): \").upper()\n",
    "\n",
    "    if user_answer == question[\"correct_answer\"]:\n",
    "        print(\"Correct!\")\n",
    "        score += 1\n",
    "    else:\n",
    "        print(f\"Wrong! The correct answer is {question['correct_answer']}.\")\n",
    "\n",
    "# Display the final score\n",
    "print(\"\\nQuiz completed!\")\n",
    "print(f\"Your score: {score}/{len(questions)}\")\n"
   ]
  },
  {
   "cell_type": "markdown",
   "id": "51f9cc9b",
   "metadata": {},
   "source": [
    "27. Develop a program that determines whether a given year is a prime number or not."
   ]
  },
  {
   "cell_type": "code",
   "execution_count": 16,
   "id": "56b5a6bd",
   "metadata": {},
   "outputs": [
    {
     "name": "stdout",
     "output_type": "stream",
     "text": [
      "Enter the year to be checked2020\n",
      "Its not a prime\n"
     ]
    }
   ],
   "source": [
    "n=int(input(\"Enter the year to be checked\"))\n",
    "if n>1:\n",
    "    for i in range(2,int(n**0.5)+1):\n",
    "        if n%i==0:\n",
    "            print(\"Its not a prime\")\n",
    "            break\n",
    "    else:\n",
    "        print(\"Its a prime number\")\n",
    "else:\n",
    "    print(\"Its not a prime\")"
   ]
  },
  {
   "cell_type": "markdown",
   "id": "d52cdc2d",
   "metadata": {},
   "source": [
    "28. Create a program that sorts three numbers in ascending order using conditional statements."
   ]
  },
  {
   "cell_type": "code",
   "execution_count": 17,
   "id": "a8d84775",
   "metadata": {},
   "outputs": [
    {
     "name": "stdout",
     "output_type": "stream",
     "text": [
      "Enter the first number: 5\n",
      "Enter the second number: 4\n",
      "Enter the third number: 2\n",
      "Sorted numbers in ascending order: [2.0, 4.0, 5.0]\n"
     ]
    }
   ],
   "source": [
    "# Get three numbers from the user\n",
    "num1 = float(input(\"Enter the first number: \"))\n",
    "num2 = float(input(\"Enter the second number: \"))\n",
    "num3 = float(input(\"Enter the third number: \"))\n",
    "\n",
    "# Use conditional statements to sort the numbers in ascending order\n",
    "if num1 <= num2 <= num3:\n",
    "    sorted_nums = [num1, num2, num3]\n",
    "elif num1 <= num3 <= num2:\n",
    "    sorted_nums = [num1, num3, num2]\n",
    "elif num2 <= num1 <= num3:\n",
    "    sorted_nums = [num2, num1, num3]\n",
    "elif num2 <= num3 <= num1:\n",
    "    sorted_nums = [num2, num3, num1]\n",
    "elif num3 <= num1 <= num2:\n",
    "    sorted_nums = [num3, num1, num2]\n",
    "else:\n",
    "    sorted_nums = [num3, num2, num1]\n",
    "\n",
    "# Display the sorted numbers\n",
    "print(\"Sorted numbers in ascending order:\", sorted_nums)\n"
   ]
  },
  {
   "cell_type": "markdown",
   "id": "918b9df9",
   "metadata": {},
   "source": [
    "29. Build a program that determines the roots of a quartic equation using numerical methods."
   ]
  },
  {
   "cell_type": "code",
   "execution_count": 19,
   "id": "02feac95",
   "metadata": {},
   "outputs": [
    {
     "name": "stdout",
     "output_type": "stream",
     "text": [
      "Enter the coefficient 'a': 1\n",
      "Enter the coefficient 'b': -4\n",
      "Enter the coefficient 'c': 3\n",
      "Root 1 = 3.0\n",
      "Root 2 = 1.0\n"
     ]
    }
   ],
   "source": [
    "import math\n",
    "\n",
    "# Input coefficients of the quadratic equation\n",
    "a = float(input(\"Enter the coefficient 'a': \"))\n",
    "b = float(input(\"Enter the coefficient 'b': \"))\n",
    "c = float(input(\"Enter the coefficient 'c': \"))\n",
    "\n",
    "# Calculate the discriminant\n",
    "discriminant = b**2 - 4*a*c\n",
    "\n",
    "# Check the discriminant to determine the nature of roots\n",
    "if discriminant > 0:\n",
    "    # Two real and distinct roots\n",
    "    root1 = (-b + math.sqrt(discriminant)) / (2*a)\n",
    "    root2 = (-b - math.sqrt(discriminant)) / (2*a)\n",
    "    print(\"Root 1 =\", root1)\n",
    "    print(\"Root 2 =\", root2)\n",
    "elif discriminant == 0:\n",
    "    # One real root (repeated)\n",
    "    root = -b / (2*a)\n",
    "    print(\"Root =\", root)\n",
    "else:\n",
    "    # Complex roots\n",
    "    real_part = -b / (2*a)\n",
    "    imaginary_part = math.sqrt(abs(discriminant)) / (2*a)\n",
    "    print(\"Root 1 =\", real_part, \"+\", imaginary_part, \"i\")\n",
    "    print(\"Root 2 =\", real_part, \"-\", imaginary_part, \"i\")\n"
   ]
  },
  {
   "cell_type": "markdown",
   "id": "0ea05c98",
   "metadata": {},
   "source": [
    "30. Write a program that calculates the BMI (Body Mass Index) and provides health recommendations based\n",
    "on the user's input."
   ]
  },
  {
   "cell_type": "code",
   "execution_count": 24,
   "id": "56c1a7dc",
   "metadata": {},
   "outputs": [
    {
     "name": "stdout",
     "output_type": "stream",
     "text": [
      "Enter your weight in kilograms: 76\n",
      "Enter your height in meters: 2\n",
      "Your BMI is 19.00, and you are categorized as Normal.\n"
     ]
    }
   ],
   "source": [
    "# Input weight and height\n",
    "weight = float(input(\"Enter your weight in kilograms: \"))\n",
    "height = float(input(\"Enter your height in meters: \"))\n",
    "\n",
    "# Calculate BMI\n",
    "bmi = weight / (height ** 2)\n",
    "\n",
    "# Categorize BMI using elif statements\n",
    "if bmi < 18.5:\n",
    "    category = \"Underweight\"\n",
    "elif 18.5 <= bmi < 24.9:\n",
    "    category = \"Normal\"\n",
    "elif 24.9 <= bmi < 29.9:\n",
    "    category = \"Overweight\"\n",
    "else:\n",
    "    category = \"Obese\"\n",
    "\n",
    "# Display the result\n",
    "print(f\"Your BMI is {bmi:.2f}, and you are categorized as {category}.\")\n"
   ]
  },
  {
   "cell_type": "markdown",
   "id": "fa45c203",
   "metadata": {},
   "source": [
    "# Challenge Level:"
   ]
  },
  {
   "cell_type": "markdown",
   "id": "6a758d1f",
   "metadata": {},
   "source": [
    "31. Create a program that validates a password based on complexity rules (length, characters, etc.)."
   ]
  },
  {
   "cell_type": "code",
   "execution_count": 25,
   "id": "fcde6ae7",
   "metadata": {},
   "outputs": [
    {
     "name": "stdout",
     "output_type": "stream",
     "text": [
      "Enter your password: August@02022711\n",
      "\n",
      "Password is valid and meets the complexity requirements.\n"
     ]
    }
   ],
   "source": [
    "# Define password complexity rules\n",
    "min_length = 8\n",
    "requires_lowercase = True\n",
    "requires_uppercase = True\n",
    "requires_digit = True\n",
    "requires_special_char = True\n",
    "\n",
    "# Get user input for the password\n",
    "password = input(\"Enter your password: \")\n",
    "\n",
    "# Initialize error messages list\n",
    "errors = []\n",
    "\n",
    "# Check password length\n",
    "if len(password) < min_length:\n",
    "    errors.append(f\"Password should be at least {min_length} characters long.\")\n",
    "\n",
    "# Check lowercase requirement\n",
    "if requires_lowercase and not any(char.islower() for char in password):\n",
    "    errors.append(\"Password should contain at least one lowercase letter.\")\n",
    "\n",
    "# Check uppercase requirement\n",
    "if requires_uppercase and not any(char.isupper() for char in password):\n",
    "    errors.append(\"Password should contain at least one uppercase letter.\")\n",
    "\n",
    "# Check digit requirement\n",
    "if requires_digit and not any(char.isdigit() for char in password):\n",
    "    errors.append(\"Password should contain at least one digit.\")\n",
    "\n",
    "# Check special character requirement\n",
    "if requires_special_char and not any(char in \"!@#$%^&*()_+[]{}|;:'\\\"<>,.?/~`\" for char in password):\n",
    "    errors.append(\"Password should contain at least one special character.\")\n",
    "\n",
    "# Check if there are any errors\n",
    "if errors:\n",
    "    print(\"\\nPassword validation failed. Please correct the following issues:\")\n",
    "    for error in errors:\n",
    "        print(error)\n",
    "else:\n",
    "    print(\"\\nPassword is valid and meets the complexity requirements.\")\n"
   ]
  },
  {
   "cell_type": "markdown",
   "id": "5969e290",
   "metadata": {},
   "source": [
    "32. Develop a program that performs matrix addition and subtraction based on user input."
   ]
  },
  {
   "cell_type": "code",
   "execution_count": 26,
   "id": "0286a5f8",
   "metadata": {},
   "outputs": [
    {
     "name": "stdout",
     "output_type": "stream",
     "text": [
      "Enter the number of rows for matrices: 2\n",
      "Enter the number of columns for matrices: 2\n",
      "Matrix A:\n",
      "Enter element at position (1,1): 1\n",
      "Enter element at position (1,2): 2\n",
      "Enter element at position (2,1): 3\n",
      "Enter element at position (2,2): 4\n",
      "Matrix B:\n",
      "Enter element at position (1,1): 1\n",
      "Enter element at position (1,2): 2\n",
      "Enter element at position (2,1): 3\n",
      "Enter element at position (2,2): 4\n",
      "Choose operation (addition or subtraction): addition\n",
      "Result:\n",
      "2.0 4.0\n",
      "6.0 8.0\n"
     ]
    }
   ],
   "source": [
    "# Input matrix dimensions\n",
    "rows = int(input(\"Enter the number of rows for matrices: \"))\n",
    "cols = int(input(\"Enter the number of columns for matrices: \"))\n",
    "\n",
    "# Input two matrices\n",
    "print(\"Matrix A:\")\n",
    "matrix_a = []\n",
    "for i in range(rows):\n",
    "    row = []\n",
    "    for j in range(cols):\n",
    "        element = float(input(f\"Enter element at position ({i+1},{j+1}): \"))\n",
    "        row.append(element)\n",
    "    matrix_a.append(row)\n",
    "\n",
    "print(\"Matrix B:\")\n",
    "matrix_b = []\n",
    "for i in range(rows):\n",
    "    row = []\n",
    "    for j in range(cols):\n",
    "        element = float(input(f\"Enter element at position ({i+1},{j+1}): \"))\n",
    "        row.append(element)\n",
    "    matrix_b.append(row)\n",
    "\n",
    "# Choose operation\n",
    "operation = input(\"Choose operation (addition or subtraction): \").lower()\n",
    "\n",
    "# Perform the chosen operation\n",
    "result_matrix = []\n",
    "if operation == \"addition\":\n",
    "    for i in range(rows):\n",
    "        row = []\n",
    "        for j in range(cols):\n",
    "            row.append(matrix_a[i][j] + matrix_b[i][j])\n",
    "        result_matrix.append(row)\n",
    "elif operation == \"subtraction\":\n",
    "    for i in range(rows):\n",
    "        row = []\n",
    "        for j in range(cols):\n",
    "            row.append(matrix_a[i][j] - matrix_b[i][j])\n",
    "        result_matrix.append(row)\n",
    "else:\n",
    "    result_matrix = None\n",
    "    print(\"Invalid operation!\")\n",
    "\n",
    "# Display the result\n",
    "if result_matrix:\n",
    "    print(\"Result:\")\n",
    "    for row in result_matrix:\n",
    "        print(\" \".join(map(str, row)))\n",
    "else:\n",
    "    print(\"Matrix dimensions are not compatible for the chosen operation.\")\n"
   ]
  },
  {
   "cell_type": "markdown",
   "id": "31d48953",
   "metadata": {},
   "source": [
    "33. Write a program that calculates the greatest common divisor (GCD) of two numbers using the Euclidean\n",
    "algorithm."
   ]
  },
  {
   "cell_type": "code",
   "execution_count": 27,
   "id": "91a3be92",
   "metadata": {},
   "outputs": [
    {
     "name": "stdout",
     "output_type": "stream",
     "text": [
      "Enter the first number: 6\n",
      "Enter the second number: 4\n",
      "The GCD of 6 and 4 is 2\n"
     ]
    }
   ],
   "source": [
    "# Function to calculate the GCD using the Euclidean algorithm\n",
    "def gcd_euclidean(a, b):\n",
    "    while b:\n",
    "        a, b = b, a % b\n",
    "    return a\n",
    "\n",
    "# Input two numbers from the user\n",
    "num1 = int(input(\"Enter the first number: \"))\n",
    "num2 = int(input(\"Enter the second number: \"))\n",
    "\n",
    "# Calculate the GCD using the Euclidean algorithm\n",
    "gcd = gcd_euclidean(num1, num2)\n",
    "\n",
    "# Display the result\n",
    "print(f\"The GCD of {num1} and {num2} is {gcd}\")\n"
   ]
  },
  {
   "cell_type": "markdown",
   "id": "4c077533",
   "metadata": {},
   "source": [
    "34. Build a program that performs matrix multiplication using nested loops and conditional statements."
   ]
  },
  {
   "cell_type": "code",
   "execution_count": 29,
   "id": "bfdccf01",
   "metadata": {},
   "outputs": [
    {
     "name": "stdout",
     "output_type": "stream",
     "text": [
      "Resultant Matrix:\n",
      "[58, 64]\n",
      "[139, 154]\n"
     ]
    }
   ],
   "source": [
    "# Function to multiply two matrices\n",
    "def matrix_multiply(matrix1, matrix2):\n",
    "    # Get the dimensions of the input matrices\n",
    "    rows1, cols1 = len(matrix1), len(matrix1[0])\n",
    "    rows2, cols2 = len(matrix2), len(matrix2[0])\n",
    "\n",
    "    # Check if the matrices can be multiplied\n",
    "    if cols1 != rows2:\n",
    "        print(\"Matrix multiplication is not possible. Number of columns in matrix 1 must be equal to the number of rows in matrix 2.\")\n",
    "        return None\n",
    "\n",
    "    # Initialize the result matrix with zeros\n",
    "    result = [[0 for _ in range(cols2)] for _ in range(rows1)]\n",
    "\n",
    "    # Perform matrix multiplication using nested loops\n",
    "    for i in range(rows1):\n",
    "        for j in range(cols2):\n",
    "            for k in range(cols1):\n",
    "                result[i][j] += matrix1[i][k] * matrix2[k][j]\n",
    "\n",
    "    return result\n",
    "\n",
    "# Example matrices for testing\n",
    "matrix_A = [\n",
    "    [1, 2, 3],\n",
    "    [4, 5, 6]\n",
    "]\n",
    "\n",
    "matrix_B = [\n",
    "    [7, 8],\n",
    "    [9, 10],\n",
    "    [11, 12]\n",
    "]\n",
    "\n",
    "# Perform matrix multiplication\n",
    "result_matrix = matrix_multiply(matrix_A, matrix_B)\n",
    "\n",
    "# Display the result matrix\n",
    "if result_matrix:\n",
    "    print(\"Resultant Matrix:\")\n",
    "    for row in result_matrix:\n",
    "        print(row)\n"
   ]
  },
  {
   "cell_type": "markdown",
   "id": "ea8102ea",
   "metadata": {},
   "source": [
    "35. Create a program that simulates a basic text-based tic-tac-toe game against the computer."
   ]
  },
  {
   "cell_type": "code",
   "execution_count": 51,
   "id": "577dbecb",
   "metadata": {},
   "outputs": [
    {
     "name": "stdout",
     "output_type": "stream",
     "text": [
      "Welcome to Tic Tac Toe!\n",
      "  |   |  \n",
      "---------\n",
      "  |   |  \n",
      "---------\n",
      "  |   |  \n",
      "---------\n",
      "Player X's turn\n",
      "Enter row (0, 1, or 2): 1\n",
      "Enter column (0, 1, or 2): 1\n",
      "  |   |  \n",
      "---------\n",
      "  | X |  \n",
      "---------\n",
      "  |   |  \n",
      "---------\n",
      "Player O's turn\n",
      "Enter row (0, 1, or 2): 0\n",
      "Enter column (0, 1, or 2): 1\n",
      "  | O |  \n",
      "---------\n",
      "  | X |  \n",
      "---------\n",
      "  |   |  \n",
      "---------\n",
      "Player X's turn\n",
      "Enter row (0, 1, or 2): 2\n",
      "Enter column (0, 1, or 2): 1\n",
      "  | O |  \n",
      "---------\n",
      "  | X |  \n",
      "---------\n",
      "  | X |  \n",
      "---------\n",
      "Player O's turn\n",
      "Enter row (0, 1, or 2): 2\n",
      "Enter column (0, 1, or 2): 0\n",
      "  | O |  \n",
      "---------\n",
      "  | X |  \n",
      "---------\n",
      "O | X |  \n",
      "---------\n",
      "Player X's turn\n",
      "Enter row (0, 1, or 2): 2\n",
      "Enter column (0, 1, or 2): 2\n",
      "  | O |  \n",
      "---------\n",
      "  | X |  \n",
      "---------\n",
      "O | X | X\n",
      "---------\n",
      "Player O's turn\n",
      "Enter row (0, 1, or 2): 0\n",
      "Enter column (0, 1, or 2): 2\n",
      "  | O | O\n",
      "---------\n",
      "  | X |  \n",
      "---------\n",
      "O | X | X\n",
      "---------\n",
      "Player X's turn\n",
      "Enter row (0, 1, or 2): 0\n",
      "Enter column (0, 1, or 2): 0\n",
      "X | O | O\n",
      "---------\n",
      "  | X |  \n",
      "---------\n",
      "O | X | X\n",
      "---------\n",
      "Player X wins!\n"
     ]
    }
   ],
   "source": [
    "def print_board(board):\n",
    "    for row in board:\n",
    "        print(\" | \".join(row))\n",
    "        print(\"-\" * 9)\n",
    "\n",
    "def check_winner(board, player):\n",
    "    for row in board:\n",
    "        if all(cell == player for cell in row):\n",
    "            return True\n",
    "\n",
    "    for col in range(3):\n",
    "        if all(board[row][col] == player for row in range(3)):\n",
    "            return True\n",
    "\n",
    "    if all(board[i][i] == player for i in range(3)) or all(board[i][2 - i] == player for i in range(3)):\n",
    "        return True\n",
    "\n",
    "    return False\n",
    "\n",
    "def is_board_full(board):\n",
    "    for row in board:\n",
    "        if \" \" in row:\n",
    "            return False\n",
    "    return True\n",
    "\n",
    "def main():\n",
    "    board = [[\" \" for _ in range(3)] for _ in range(3)]\n",
    "    current_player = \"X\"\n",
    "    game_over = False\n",
    "\n",
    "    print(\"Welcome to Tic Tac Toe!\")\n",
    "\n",
    "    while not game_over:\n",
    "        print_board(board)\n",
    "        print(f\"Player {current_player}'s turn\")\n",
    "\n",
    "        row = int(input(\"Enter row (0, 1, or 2): \"))\n",
    "        col = int(input(\"Enter column (0, 1, or 2): \"))\n",
    "\n",
    "        if board[row][col] == \" \":\n",
    "            board[row][col] = current_player\n",
    "\n",
    "            if check_winner(board, current_player):\n",
    "                print_board(board)\n",
    "                print(f\"Player {current_player} wins!\")\n",
    "                game_over = True\n",
    "            elif is_board_full(board):\n",
    "                print_board(board)\n",
    "                print(\"It's a tie!\")\n",
    "                game_over = True\n",
    "            else:\n",
    "                current_player = \"O\" if current_player == \"X\" else \"X\"\n",
    "        else:\n",
    "            print(\"That position is already taken. Try again.\")\n",
    "\n",
    "if __name__ == \"__main__\":\n",
    "    main()\n"
   ]
  },
  {
   "cell_type": "markdown",
   "id": "f0c0bf4a",
   "metadata": {},
   "source": [
    "36. Write a program that generates Fibonacci numbers up to a specified term using iterative methods."
   ]
  },
  {
   "cell_type": "code",
   "execution_count": 31,
   "id": "46a2067d",
   "metadata": {},
   "outputs": [
    {
     "name": "stdout",
     "output_type": "stream",
     "text": [
      "How many terms? 7\n",
      "Fibonacci sequence:\n",
      "0\n",
      "1\n",
      "1\n",
      "2\n",
      "3\n",
      "5\n",
      "8\n"
     ]
    }
   ],
   "source": [
    "# Program to display the Fibonacci sequence up to n-th term\n",
    "\n",
    "nterms = int(input(\"How many terms? \"))\n",
    "\n",
    "# first two terms\n",
    "n1, n2 = 0, 1\n",
    "count = 0\n",
    "\n",
    "# check if the number of terms is valid\n",
    "if nterms <= 0:\n",
    "   print(\"Please enter a positive integer\")\n",
    "# if there is only one term, return n1\n",
    "elif nterms == 1:\n",
    "   print(\"Fibonacci sequence upto\",nterms,\":\")\n",
    "   print(n1)\n",
    "# generate fibonacci sequence\n",
    "else:\n",
    "   print(\"Fibonacci sequence:\")\n",
    "   while count < nterms:\n",
    "       print(n1)\n",
    "       nth = n1 + n2\n",
    "       # update values\n",
    "       n1 = n2\n",
    "       n2 = nth\n",
    "       count += 1"
   ]
  },
  {
   "cell_type": "markdown",
   "id": "61ff3aa9",
   "metadata": {},
   "source": [
    "37. Develop a program that calculates the nth term of the Fibonacci sequence using memoization."
   ]
  },
  {
   "cell_type": "code",
   "execution_count": 34,
   "id": "0b13f75c",
   "metadata": {},
   "outputs": [
    {
     "name": "stdout",
     "output_type": "stream",
     "text": [
      "13\n"
     ]
    }
   ],
   "source": [
    "# Fibonacci Series using Dynamic Programming\n",
    "def fibonacci(n):\n",
    "\n",
    "# Taking 1st two fibonacci numbers as 0 and 1\n",
    "    f = [0, 1]\n",
    "\n",
    "    for i in range(2, n+1):\n",
    "        f.append(f[i-1] + f[i-2])\n",
    "    return f[n]\n",
    "\n",
    "\n",
    "print(fibonacci(7))\n"
   ]
  },
  {
   "cell_type": "markdown",
   "id": "b3d3a343",
   "metadata": {},
   "source": [
    "38. Create a program that generates a calendar for a given month and year using conditional statements."
   ]
  },
  {
   "cell_type": "code",
   "execution_count": 36,
   "id": "08ce681b",
   "metadata": {},
   "outputs": [
    {
     "name": "stdout",
     "output_type": "stream",
     "text": [
      "   November 2014\n",
      "Mo Tu We Th Fr Sa Su\n",
      "                1  2\n",
      " 3  4  5  6  7  8  9\n",
      "10 11 12 13 14 15 16\n",
      "17 18 19 20 21 22 23\n",
      "24 25 26 27 28 29 30\n",
      "\n"
     ]
    }
   ],
   "source": [
    "# Program to display calendar of the given month and year\n",
    "\n",
    "# importing calendar module\n",
    "import calendar\n",
    "\n",
    "yy = 2014  # year\n",
    "mm = 11    # month\n",
    "\n",
    "# To take month and year input from the user\n",
    "# yy = int(input(\"Enter year: \"))\n",
    "# mm = int(input(\"Enter month: \"))\n",
    "\n",
    "# display the calendar\n",
    "print(calendar.month(yy, mm))\n"
   ]
  },
  {
   "cell_type": "code",
   "execution_count": 37,
   "id": "59e6ae77",
   "metadata": {},
   "outputs": [
    {
     "name": "stdout",
     "output_type": "stream",
     "text": [
      "Enter year (e.g., 2023): 2022\n",
      "Enter month (1-12): 5\n",
      "Calendar for May 2022\n",
      "      May 2022\n",
      "Mo Tu We Th Fr Sa Su\n",
      "                   1\n",
      " 2  3  4  5  6  7  8\n",
      " 9 10 11 12 13 14 15\n",
      "16 17 18 19 20 21 22\n",
      "23 24 25 26 27 28 29\n",
      "30 31\n",
      "\n"
     ]
    }
   ],
   "source": [
    "import calendar\n",
    "\n",
    "def generate_calendar(year, month):\n",
    "    # Create a calendar object\n",
    "    cal = calendar.month(year, month)\n",
    "\n",
    "    # Display the calendar\n",
    "    print(f\"Calendar for {calendar.month_name[month]} {year}\")\n",
    "    print(cal)\n",
    "\n",
    "# Input from the user\n",
    "year = int(input(\"Enter year (e.g., 2023): \"))\n",
    "month = int(input(\"Enter month (1-12): \"))\n",
    "\n",
    "# Check if the input month is within a valid range\n",
    "if 1 <= month <= 12:\n",
    "    generate_calendar(year, month)\n",
    "else:\n",
    "    print(\"Invalid month. Please enter a month between 1 and 12.\")\n"
   ]
  },
  {
   "cell_type": "markdown",
   "id": "6ac51765",
   "metadata": {},
   "source": [
    "39. Build a program that simulates a basic text-based blackjack game against the computer."
   ]
  },
  {
   "cell_type": "code",
   "execution_count": 38,
   "id": "16b0583f",
   "metadata": {},
   "outputs": [
    {
     "name": "stdout",
     "output_type": "stream",
     "text": [
      "Your hand: ['J', '4'] ( 14 )\n",
      "Dealer's hand: ['4', '?']\n",
      "Do you want to 'hit' or 'stand'? hit\n",
      "Your hand: ['J', '4', '8'] ( 22 )\n",
      "Dealer's hand: ['4', '?']\n",
      "Your hand: ['J', '4', '8'] ( 22 )\n",
      "Dealer's hand: ['4', '8', '10'] ( 22 )\n",
      "Bust! You lose.\n",
      "Do you want to play again? (yes/no): yes\n",
      "Your hand: ['9', '10'] ( 19 )\n",
      "Dealer's hand: ['Q', '?']\n",
      "Do you want to 'hit' or 'stand'? stand\n",
      "Your hand: ['9', '10'] ( 19 )\n",
      "Dealer's hand: ['Q', '2', '7'] ( 19 )\n",
      "It's a tie!\n",
      "Do you want to play again? (yes/no): yes\n",
      "Your hand: ['6', '7'] ( 13 )\n",
      "Dealer's hand: ['10', '?']\n",
      "Do you want to 'hit' or 'stand'? stand\n",
      "Your hand: ['6', '7'] ( 13 )\n",
      "Dealer's hand: ['10', '5', '3'] ( 18 )\n",
      "Dealer wins.\n",
      "Do you want to play again? (yes/no): yes\n",
      "Your hand: ['K', 'J'] ( 20 )\n",
      "Dealer's hand: ['J', '?']\n",
      "Do you want to 'hit' or 'stand'? hit\n",
      "Your hand: ['K', 'J', 'K'] ( 30 )\n",
      "Dealer's hand: ['J', '?']\n",
      "Your hand: ['K', 'J', 'K'] ( 30 )\n",
      "Dealer's hand: ['J', '4', '6'] ( 20 )\n",
      "Bust! You lose.\n",
      "Do you want to play again? (yes/no): no\n",
      "Thanks for playing!\n"
     ]
    }
   ],
   "source": [
    "import random\n",
    "\n",
    "# Function to calculate the total value of a hand\n",
    "def calculate_hand_value(hand):\n",
    "    value = 0\n",
    "    num_aces = 0\n",
    "\n",
    "    for card in hand:\n",
    "        if card in ['K', 'Q', 'J']:\n",
    "            value += 10\n",
    "        elif card == 'A':\n",
    "            value += 11\n",
    "            num_aces += 1\n",
    "        else:\n",
    "            value += int(card)\n",
    "\n",
    "    while num_aces > 0 and value > 21:\n",
    "        value -= 10\n",
    "        num_aces -= 1\n",
    "\n",
    "    return value\n",
    "\n",
    "# Function to display the player's and dealer's hands\n",
    "def display_hands(player_hand, dealer_hand, reveal_dealer=False):\n",
    "    print(\"Your hand:\", player_hand, \"(\", calculate_hand_value(player_hand), \")\")\n",
    "    if reveal_dealer:\n",
    "        print(\"Dealer's hand:\", dealer_hand, \"(\", calculate_hand_value(dealer_hand), \")\")\n",
    "    else:\n",
    "        print(\"Dealer's hand:\", [dealer_hand[0], \"?\"])\n",
    "\n",
    "# Function to deal a card from the deck\n",
    "def deal_card(deck, hand):\n",
    "    card = random.choice(deck)\n",
    "    hand.append(card)\n",
    "    deck.remove(card)\n",
    "\n",
    "# Initialize the deck\n",
    "suits = ['Hearts', 'Diamonds', 'Clubs', 'Spades']\n",
    "values = ['2', '3', '4', '5', '6', '7', '8', '9', '10', 'J', 'Q', 'K', 'A']\n",
    "deck = [value for suit in suits for value in values]\n",
    "\n",
    "# Main game loop\n",
    "while True:\n",
    "    player_hand = []\n",
    "    dealer_hand = []\n",
    "\n",
    "    # Shuffle the deck\n",
    "    random.shuffle(deck)\n",
    "\n",
    "    # Deal the initial cards\n",
    "    for _ in range(2):\n",
    "        deal_card(deck, player_hand)\n",
    "        deal_card(deck, dealer_hand)\n",
    "\n",
    "    # Display the initial hands\n",
    "    display_hands(player_hand, dealer_hand)\n",
    "\n",
    "    # Player's turn\n",
    "    while calculate_hand_value(player_hand) < 21:\n",
    "        action = input(\"Do you want to 'hit' or 'stand'? \").lower()\n",
    "        if action == 'hit':\n",
    "            deal_card(deck, player_hand)\n",
    "            display_hands(player_hand, dealer_hand)\n",
    "        elif action == 'stand':\n",
    "            break\n",
    "\n",
    "    # Dealer's turn\n",
    "    while calculate_hand_value(dealer_hand) < 17:\n",
    "        deal_card(deck, dealer_hand)\n",
    "\n",
    "    # Display final hands\n",
    "    display_hands(player_hand, dealer_hand, reveal_dealer=True)\n",
    "\n",
    "    # Determine the winner\n",
    "    player_value = calculate_hand_value(player_hand)\n",
    "    dealer_value = calculate_hand_value(dealer_hand)\n",
    "\n",
    "    if player_value > 21:\n",
    "        print(\"Bust! You lose.\")\n",
    "    elif dealer_value > 21:\n",
    "        print(\"Dealer busts! You win.\")\n",
    "    elif player_value > dealer_value:\n",
    "        print(\"You win!\")\n",
    "    elif player_value < dealer_value:\n",
    "        print(\"Dealer wins.\")\n",
    "    else:\n",
    "        print(\"It's a tie!\")\n",
    "\n",
    "    play_again = input(\"Do you want to play again? (yes/no): \").lower()\n",
    "    if play_again != 'yes':\n",
    "        break\n",
    "\n",
    "print(\"Thanks for playing!\")\n"
   ]
  },
  {
   "cell_type": "markdown",
   "id": "3d3fc0b8",
   "metadata": {},
   "source": [
    "40. Write a program that generates the prime factors of a given number using trial division."
   ]
  },
  {
   "cell_type": "code",
   "execution_count": 48,
   "id": "a6b20e81",
   "metadata": {},
   "outputs": [
    {
     "name": "stdout",
     "output_type": "stream",
     "text": [
      "Prime factors of 90 are {2, 3, 5}\n",
      "Prime factors of 180 are {2, 3, 5}\n"
     ]
    }
   ],
   "source": [
    "def calculate_prime_factors(N):\n",
    "    prime_factors = set()\n",
    "    if N % 2 == 0:dd\n",
    "        prime_factors.add(2)\n",
    "    while N % 2 == 0:\n",
    "        N = N // 2\n",
    "        if N == 1:\n",
    "            return prime_factors\n",
    "    for factor in range(3, N + 1, 2):\n",
    "        if N % factor == 0:\n",
    "            prime_factors.add(factor)\n",
    "            while N % factor == 0:\n",
    "                N = N // factor\n",
    "                if N == 1:\n",
    "                    return prime_factors\n",
    "\n",
    "\n",
    "input_number = 90\n",
    "output = calculate_prime_factors(input_number)\n",
    "print(\"Prime factors of {} are {}\".format(input_number, output))\n",
    "input_number = 180\n",
    "output = calculate_prime_factors(input_number)\n",
    "print(\"Prime factors of {} are {}\".format(input_number, output))"
   ]
  },
  {
   "cell_type": "code",
   "execution_count": null,
   "id": "16ee18e8",
   "metadata": {},
   "outputs": [],
   "source": []
  }
 ],
 "metadata": {
  "kernelspec": {
   "display_name": "Python 3 (ipykernel)",
   "language": "python",
   "name": "python3"
  },
  "language_info": {
   "codemirror_mode": {
    "name": "ipython",
    "version": 3
   },
   "file_extension": ".py",
   "mimetype": "text/x-python",
   "name": "python",
   "nbconvert_exporter": "python",
   "pygments_lexer": "ipython3",
   "version": "3.10.9"
  }
 },
 "nbformat": 4,
 "nbformat_minor": 5
}
